{
 "cells": [
  {
   "cell_type": "code",
   "execution_count": 1,
   "id": "64f7cc66-0ccf-41d6-85e7-5d7a3e914377",
   "metadata": {},
   "outputs": [],
   "source": [
    "import collections\n",
    "import multiprocessing\n",
    "from pathlib import Path\n",
    "\n",
    "import pandas as pd\n",
    "import requests\n",
    "from bs4 import BeautifulSoup"
   ]
  },
  {
   "cell_type": "code",
   "execution_count": 2,
   "id": "267c592e-750a-4638-a698-df54fb350df5",
   "metadata": {},
   "outputs": [],
   "source": [
    "save_dir = Path('raw-data')"
   ]
  },
  {
   "cell_type": "code",
   "execution_count": 3,
   "id": "9cc8f7da-a196-4e35-9f5d-1300f7b678a2",
   "metadata": {},
   "outputs": [],
   "source": [
    "provincies = [\n",
    "    \"AB\",\n",
    "    \"BC\",\n",
    "    \"MB\",\n",
    "    \"NB\",\n",
    "    \"NL\",\n",
    "    \"NS\",\n",
    "    \"NT\",\n",
    "    \"NU\",\n",
    "    \"ON\",\n",
    "    \"PE\",\n",
    "    \"QC\",\n",
    "    \"SK\",\n",
    "    \"YT\",\n",
    "]"
   ]
  },
  {
   "cell_type": "code",
   "execution_count": 4,
   "id": "1fa9afff-beef-4120-8eb5-7ec426fe6f22",
   "metadata": {},
   "outputs": [],
   "source": [
    "baseurl = 'https://dd.weather.gc.ca/climate/observations/hourly/csv/{provence}/'"
   ]
  },
  {
   "cell_type": "code",
   "execution_count": 5,
   "id": "551e6e4a-e4ca-4f47-bc10-9d91deacdc67",
   "metadata": {},
   "outputs": [],
   "source": [
    "# response = requests.get(baseurl.format(provence='MB'))\n",
    "# html_body = response.content.decode()"
   ]
  },
  {
   "cell_type": "code",
   "execution_count": 6,
   "id": "4077e36f-a4d4-42e2-a666-63fd0b831f3c",
   "metadata": {},
   "outputs": [],
   "source": [
    "def url_generator():\n",
    "    '''\n",
    "    Note that many BeautifulSoup trees can't be pickled.\n",
    "    '''\n",
    "    for provence in provincies:\n",
    "        url = baseurl.format(provence=provence)\n",
    "        print(url)\n",
    "        response = requests.get(url)\n",
    "\n",
    "        if response.status_code != 200:\n",
    "            continue\n",
    "        \n",
    "        html_body = response.content.decode()\n",
    "        soup = BeautifulSoup(html_body, 'html.parser')\n",
    "    \n",
    "        for link in sorted(\n",
    "            soup.body.find_all('a'),\n",
    "            key=lambda item: item.get('href'),\n",
    "        ):\n",
    "            uri = link.get('href')\n",
    "            if not uri.endswith('.csv'):\n",
    "                continue\n",
    "\n",
    "            full_url = f'{url}{uri}'\n",
    "\n",
    "            yield provence, full_url"
   ]
  },
  {
   "cell_type": "code",
   "execution_count": 7,
   "id": "87d4fd14-1584-4de4-a3cd-b2f17824f2c1",
   "metadata": {},
   "outputs": [],
   "source": [
    "def load_data(data):\n",
    "    provence, url = data    \n",
    "    if not url.endswith('.csv'):\n",
    "        return\n",
    "\n",
    "    save_subdir = save_dir / provence\n",
    "    save_subdir.mkdir(parents=True, exist_ok=True)\n",
    "\n",
    "    # get file name\n",
    "    filename = Path(url).name\n",
    "    filepath = save_subdir / filename\n",
    "\n",
    "    if filepath.is_file():\n",
    "        # file already exists\n",
    "        return\n",
    "    \n",
    "    try:\n",
    "        df = pd.read_csv(url, encoding= 'unicode_escape')\n",
    "    except Exception as e:\n",
    "        print(url)\n",
    "        print(str(e))\n",
    "    else:\n",
    "        with filepath.open('w') as flink:\n",
    "            df.to_csv(flink, index=False)\n",
    "\n",
    "        # there may be lots in memeory\n",
    "        del df"
   ]
  },
  {
   "cell_type": "code",
   "execution_count": 8,
   "id": "bdd0a8ca-19a5-458b-b0ca-ef30a55b0fb1",
   "metadata": {},
   "outputs": [
    {
     "name": "stdout",
     "output_type": "stream",
     "text": [
      "https://dd.weather.gc.ca/climate/observations/hourly/csv/AB/\n",
      "0\n",
      "https://dd.weather.gc.ca/climate/observations/hourly/csv/BC/\n",
      "https://dd.weather.gc.ca/climate/observations/hourly/csv/MB/\n",
      "https://dd.weather.gc.ca/climate/observations/hourly/csv/NB/\n",
      "https://dd.weather.gc.ca/climate/observations/hourly/csv/NL/\n",
      "10000\n",
      "https://dd.weather.gc.ca/climate/observations/hourly/csv/NS/\n",
      "https://dd.weather.gc.ca/climate/observations/hourly/csv/NT/\n",
      "https://dd.weather.gc.ca/climate/observations/hourly/csv/NU/\n",
      "https://dd.weather.gc.ca/climate/observations/hourly/csv/ON/\n",
      "https://dd.weather.gc.ca/climate/observations/hourly/csv/NU/climate_hourly_NU_2300902_1992_P1H.csv\n",
      "Error tokenizing data. C error: EOF inside string starting at row 4982\n",
      "https://dd.weather.gc.ca/climate/observations/hourly/csv/NT/climate_hourly_NT_2201579_2009_P1H.csv\n",
      "Error tokenizing data. C error: EOF inside string starting at row 7573\n",
      "https://dd.weather.gc.ca/climate/observations/hourly/csv/PE/\n",
      "20000\n",
      "https://dd.weather.gc.ca/climate/observations/hourly/csv/QC/\n",
      "https://dd.weather.gc.ca/climate/observations/hourly/csv/SK/\n",
      "https://dd.weather.gc.ca/climate/observations/hourly/csv/QC/climate_hourly_QC_7025250_2012_P1H.csv\n",
      "Error tokenizing data. C error: EOF inside string starting at row 4218\n",
      "https://dd.weather.gc.ca/climate/observations/hourly/csv/YT/\n",
      "https://dd.weather.gc.ca/climate/observations/hourly/csv/QC/climate_hourly_QC_704C64L_2015_P1H.csv\n",
      "Error tokenizing data. C error: EOF inside string starting at row 6295\n",
      "complete\n"
     ]
    }
   ],
   "source": [
    "# we want to speed this up but not thrash the server and\n",
    "# get throttled\n",
    "with multiprocessing.Pool(processes=4) as pool:\n",
    "    for (idx,_) in enumerate(pool.imap_unordered(\n",
    "        func=load_data,\n",
    "        iterable=url_generator(),\n",
    "        chunksize=32,\n",
    "    )):\n",
    "        if idx % 10000 == 0:\n",
    "            print(idx)\n",
    "    print('complete')"
   ]
  }
 ],
 "metadata": {
  "kernelspec": {
   "display_name": "Python 3 (ipykernel)",
   "language": "python",
   "name": "python3"
  },
  "language_info": {
   "codemirror_mode": {
    "name": "ipython",
    "version": 3
   },
   "file_extension": ".py",
   "mimetype": "text/x-python",
   "name": "python",
   "nbconvert_exporter": "python",
   "pygments_lexer": "ipython3",
   "version": "3.10.12"
  }
 },
 "nbformat": 4,
 "nbformat_minor": 5
}
