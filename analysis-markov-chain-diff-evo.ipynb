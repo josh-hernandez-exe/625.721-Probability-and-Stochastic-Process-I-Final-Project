{
 "cells": [
  {
   "cell_type": "code",
   "execution_count": 1,
   "id": "64f7cc66-0ccf-41d6-85e7-5d7a3e914377",
   "metadata": {},
   "outputs": [],
   "source": [
    "import json\n",
    "import functools\n",
    "import multiprocessing\n",
    "from pathlib import Path\n",
    "\n",
    "import numpy as np\n",
    "import numpy.linalg\n",
    "import pandas as pd\n",
    "import scipy as sp\n",
    "import scipy.optimize\n",
    "from matplotlib import pyplot as plt\n",
    "\n",
    "from helper import (\n",
    "    get_station_data, \n",
    "    evaluate_markov_chain,\n",
    "    get_train_test_time_ranges,\n",
    "    calculate_n_ijh, calculate_p_ijh\n",
    ")"
   ]
  },
  {
   "cell_type": "code",
   "execution_count": 2,
   "id": "8a0661eb-db3b-420d-9ccc-e2713ed0647d",
   "metadata": {},
   "outputs": [],
   "source": [
    "province='AB'\n",
    "#province='BC'\n",
    "# province='MB'\n",
    "#province='NB'\n",
    "#province='NL'\n",
    "#province='NS'\n",
    "#province='NT'\n",
    "#province='NU'\n",
    "# province='ON'\n",
    "#province='PE'\n",
    "#province='QC'\n",
    "#province='SK'\n",
    "#province='YT'\n",
    "\n",
    "# station_id_set = set(['6158355', '6158359'])\n",
    "station_id_set = set(['3034479', '3034485'])"
   ]
  },
  {
   "cell_type": "code",
   "execution_count": 3,
   "id": "07620f48-b9ca-4695-a446-d8eb8edf4e79",
   "metadata": {},
   "outputs": [],
   "source": [
    "raw_data_base_dir = Path('raw-data')"
   ]
  },
  {
   "cell_type": "code",
   "execution_count": 4,
   "id": "a4fdf6fe-463a-4073-8b8d-09b120caae11",
   "metadata": {},
   "outputs": [],
   "source": [
    "df = get_station_data(\n",
    "    raw_data_base_dir / province,\n",
    "    station_id_set=station_id_set,\n",
    ")"
   ]
  },
  {
   "cell_type": "code",
   "execution_count": 5,
   "id": "2cdbc222-80a6-4187-929d-ea0475576e6f",
   "metadata": {},
   "outputs": [
    {
     "data": {
      "text/plain": [
       "311253"
      ]
     },
     "execution_count": 5,
     "metadata": {},
     "output_type": "execute_result"
    }
   ],
   "source": [
    "len(df)"
   ]
  },
  {
   "cell_type": "code",
   "execution_count": 6,
   "id": "bcfcdcdb-6fa2-41c0-bc4e-360c5a500efa",
   "metadata": {},
   "outputs": [
    {
     "data": {
      "text/html": [
       "<div>\n",
       "<style scoped>\n",
       "    .dataframe tbody tr th:only-of-type {\n",
       "        vertical-align: middle;\n",
       "    }\n",
       "\n",
       "    .dataframe tbody tr th {\n",
       "        vertical-align: top;\n",
       "    }\n",
       "\n",
       "    .dataframe thead th {\n",
       "        text-align: right;\n",
       "    }\n",
       "</style>\n",
       "<table border=\"1\" class=\"dataframe\">\n",
       "  <thead>\n",
       "    <tr style=\"text-align: right;\">\n",
       "      <th></th>\n",
       "      <th>Longitude (x)</th>\n",
       "      <th>Latitude (y)</th>\n",
       "      <th>Station Name</th>\n",
       "      <th>Date/Time (LST)</th>\n",
       "      <th>Year</th>\n",
       "      <th>Month</th>\n",
       "      <th>Day</th>\n",
       "      <th>Time (LST)</th>\n",
       "      <th>Wind Dir (10s deg)</th>\n",
       "      <th>Wind Spd (km/h)</th>\n",
       "    </tr>\n",
       "    <tr>\n",
       "      <th>Climate ID</th>\n",
       "      <th></th>\n",
       "      <th></th>\n",
       "      <th></th>\n",
       "      <th></th>\n",
       "      <th></th>\n",
       "      <th></th>\n",
       "      <th></th>\n",
       "      <th></th>\n",
       "      <th></th>\n",
       "      <th></th>\n",
       "    </tr>\n",
       "  </thead>\n",
       "  <tbody>\n",
       "    <tr>\n",
       "      <th>3034479</th>\n",
       "      <td>0</td>\n",
       "      <td>0</td>\n",
       "      <td>0</td>\n",
       "      <td>0</td>\n",
       "      <td>0</td>\n",
       "      <td>0</td>\n",
       "      <td>0</td>\n",
       "      <td>0</td>\n",
       "      <td>9405</td>\n",
       "      <td>1289</td>\n",
       "    </tr>\n",
       "    <tr>\n",
       "      <th>3034485</th>\n",
       "      <td>0</td>\n",
       "      <td>0</td>\n",
       "      <td>0</td>\n",
       "      <td>0</td>\n",
       "      <td>0</td>\n",
       "      <td>0</td>\n",
       "      <td>0</td>\n",
       "      <td>0</td>\n",
       "      <td>9609</td>\n",
       "      <td>915</td>\n",
       "    </tr>\n",
       "  </tbody>\n",
       "</table>\n",
       "</div>"
      ],
      "text/plain": [
       "            Longitude (x)  Latitude (y)  Station Name  Date/Time (LST)  Year  \\\n",
       "Climate ID                                                                     \n",
       "3034479                 0             0             0                0     0   \n",
       "3034485                 0             0             0                0     0   \n",
       "\n",
       "            Month  Day  Time (LST)  Wind Dir (10s deg)  Wind Spd (km/h)  \n",
       "Climate ID                                                               \n",
       "3034479         0    0           0                9405             1289  \n",
       "3034485         0    0           0                9609              915  "
      ]
     },
     "metadata": {},
     "output_type": "display_data"
    }
   ],
   "source": [
    "group = df.groupby('Climate ID')\n",
    "display(group.count().rsub(group.size(), axis=0))"
   ]
  },
  {
   "cell_type": "code",
   "execution_count": 7,
   "id": "e97f0c70-cfb1-4cef-81b6-dc84078c565f",
   "metadata": {},
   "outputs": [],
   "source": [
    "valid_mask = (\n",
    "    (~df['Wind Spd (km/h)'].isna())\n",
    ")"
   ]
  },
  {
   "cell_type": "code",
   "execution_count": 8,
   "id": "d17b4d2e-db06-4311-a289-1aa30b6ba004",
   "metadata": {},
   "outputs": [
    {
     "data": {
      "text/html": [
       "<div>\n",
       "<style scoped>\n",
       "    .dataframe tbody tr th:only-of-type {\n",
       "        vertical-align: middle;\n",
       "    }\n",
       "\n",
       "    .dataframe tbody tr th {\n",
       "        vertical-align: top;\n",
       "    }\n",
       "\n",
       "    .dataframe thead th {\n",
       "        text-align: right;\n",
       "    }\n",
       "</style>\n",
       "<table border=\"1\" class=\"dataframe\">\n",
       "  <thead>\n",
       "    <tr style=\"text-align: right;\">\n",
       "      <th></th>\n",
       "      <th>Longitude (x)</th>\n",
       "      <th>Latitude (y)</th>\n",
       "      <th>Station Name</th>\n",
       "      <th>Climate ID</th>\n",
       "      <th>Date/Time (LST)</th>\n",
       "      <th>Year</th>\n",
       "      <th>Month</th>\n",
       "      <th>Day</th>\n",
       "      <th>Time (LST)</th>\n",
       "      <th>Wind Dir (10s deg)</th>\n",
       "      <th>Wind Spd (km/h)</th>\n",
       "    </tr>\n",
       "  </thead>\n",
       "  <tbody>\n",
       "    <tr>\n",
       "      <th>0</th>\n",
       "      <td>-110.72</td>\n",
       "      <td>50.03</td>\n",
       "      <td>MEDICINE HAT RCS</td>\n",
       "      <td>3034485</td>\n",
       "      <td>2001-01-12 15:00:00</td>\n",
       "      <td>2001</td>\n",
       "      <td>1</td>\n",
       "      <td>12</td>\n",
       "      <td>15:00</td>\n",
       "      <td>2.0</td>\n",
       "      <td>13.0</td>\n",
       "    </tr>\n",
       "    <tr>\n",
       "      <th>1</th>\n",
       "      <td>-110.72</td>\n",
       "      <td>50.03</td>\n",
       "      <td>MEDICINE HAT RCS</td>\n",
       "      <td>3034485</td>\n",
       "      <td>2001-01-12 16:00:00</td>\n",
       "      <td>2001</td>\n",
       "      <td>1</td>\n",
       "      <td>12</td>\n",
       "      <td>16:00</td>\n",
       "      <td>1.0</td>\n",
       "      <td>11.0</td>\n",
       "    </tr>\n",
       "    <tr>\n",
       "      <th>2</th>\n",
       "      <td>-110.72</td>\n",
       "      <td>50.03</td>\n",
       "      <td>MEDICINE HAT RCS</td>\n",
       "      <td>3034485</td>\n",
       "      <td>2001-01-12 17:00:00</td>\n",
       "      <td>2001</td>\n",
       "      <td>1</td>\n",
       "      <td>12</td>\n",
       "      <td>17:00</td>\n",
       "      <td>2.0</td>\n",
       "      <td>9.0</td>\n",
       "    </tr>\n",
       "    <tr>\n",
       "      <th>3</th>\n",
       "      <td>-110.72</td>\n",
       "      <td>50.03</td>\n",
       "      <td>MEDICINE HAT RCS</td>\n",
       "      <td>3034485</td>\n",
       "      <td>2001-01-12 18:00:00</td>\n",
       "      <td>2001</td>\n",
       "      <td>1</td>\n",
       "      <td>12</td>\n",
       "      <td>18:00</td>\n",
       "      <td>2.0</td>\n",
       "      <td>9.0</td>\n",
       "    </tr>\n",
       "    <tr>\n",
       "      <th>4</th>\n",
       "      <td>-110.72</td>\n",
       "      <td>50.03</td>\n",
       "      <td>MEDICINE HAT RCS</td>\n",
       "      <td>3034485</td>\n",
       "      <td>2001-01-12 19:00:00</td>\n",
       "      <td>2001</td>\n",
       "      <td>1</td>\n",
       "      <td>12</td>\n",
       "      <td>19:00</td>\n",
       "      <td>3.0</td>\n",
       "      <td>11.0</td>\n",
       "    </tr>\n",
       "    <tr>\n",
       "      <th>...</th>\n",
       "      <td>...</td>\n",
       "      <td>...</td>\n",
       "      <td>...</td>\n",
       "      <td>...</td>\n",
       "      <td>...</td>\n",
       "      <td>...</td>\n",
       "      <td>...</td>\n",
       "      <td>...</td>\n",
       "      <td>...</td>\n",
       "      <td>...</td>\n",
       "      <td>...</td>\n",
       "    </tr>\n",
       "    <tr>\n",
       "      <th>311248</th>\n",
       "      <td>-110.72</td>\n",
       "      <td>50.03</td>\n",
       "      <td>MEDICINE HAT RCS</td>\n",
       "      <td>3034485</td>\n",
       "      <td>2023-08-18 21:00:00</td>\n",
       "      <td>2023</td>\n",
       "      <td>8</td>\n",
       "      <td>18</td>\n",
       "      <td>21:00</td>\n",
       "      <td>34.0</td>\n",
       "      <td>19.0</td>\n",
       "    </tr>\n",
       "    <tr>\n",
       "      <th>311249</th>\n",
       "      <td>-110.72</td>\n",
       "      <td>50.02</td>\n",
       "      <td>MEDICINE HAT</td>\n",
       "      <td>3034479</td>\n",
       "      <td>2023-08-18 22:00:00</td>\n",
       "      <td>2023</td>\n",
       "      <td>8</td>\n",
       "      <td>18</td>\n",
       "      <td>22:00</td>\n",
       "      <td>29.0</td>\n",
       "      <td>18.0</td>\n",
       "    </tr>\n",
       "    <tr>\n",
       "      <th>311250</th>\n",
       "      <td>-110.72</td>\n",
       "      <td>50.03</td>\n",
       "      <td>MEDICINE HAT RCS</td>\n",
       "      <td>3034485</td>\n",
       "      <td>2023-08-18 22:00:00</td>\n",
       "      <td>2023</td>\n",
       "      <td>8</td>\n",
       "      <td>18</td>\n",
       "      <td>22:00</td>\n",
       "      <td>31.0</td>\n",
       "      <td>15.0</td>\n",
       "    </tr>\n",
       "    <tr>\n",
       "      <th>311251</th>\n",
       "      <td>-110.72</td>\n",
       "      <td>50.02</td>\n",
       "      <td>MEDICINE HAT</td>\n",
       "      <td>3034479</td>\n",
       "      <td>2023-08-18 23:00:00</td>\n",
       "      <td>2023</td>\n",
       "      <td>8</td>\n",
       "      <td>18</td>\n",
       "      <td>23:00</td>\n",
       "      <td>29.0</td>\n",
       "      <td>26.0</td>\n",
       "    </tr>\n",
       "    <tr>\n",
       "      <th>311252</th>\n",
       "      <td>-110.72</td>\n",
       "      <td>50.03</td>\n",
       "      <td>MEDICINE HAT RCS</td>\n",
       "      <td>3034485</td>\n",
       "      <td>2023-08-18 23:00:00</td>\n",
       "      <td>2023</td>\n",
       "      <td>8</td>\n",
       "      <td>18</td>\n",
       "      <td>23:00</td>\n",
       "      <td>30.0</td>\n",
       "      <td>19.0</td>\n",
       "    </tr>\n",
       "  </tbody>\n",
       "</table>\n",
       "<p>311253 rows × 11 columns</p>\n",
       "</div>"
      ],
      "text/plain": [
       "        Longitude (x)  Latitude (y)      Station Name Climate ID  \\\n",
       "0             -110.72         50.03  MEDICINE HAT RCS    3034485   \n",
       "1             -110.72         50.03  MEDICINE HAT RCS    3034485   \n",
       "2             -110.72         50.03  MEDICINE HAT RCS    3034485   \n",
       "3             -110.72         50.03  MEDICINE HAT RCS    3034485   \n",
       "4             -110.72         50.03  MEDICINE HAT RCS    3034485   \n",
       "...               ...           ...               ...        ...   \n",
       "311248        -110.72         50.03  MEDICINE HAT RCS    3034485   \n",
       "311249        -110.72         50.02      MEDICINE HAT    3034479   \n",
       "311250        -110.72         50.03  MEDICINE HAT RCS    3034485   \n",
       "311251        -110.72         50.02      MEDICINE HAT    3034479   \n",
       "311252        -110.72         50.03  MEDICINE HAT RCS    3034485   \n",
       "\n",
       "           Date/Time (LST)  Year Month Day Time (LST)  Wind Dir (10s deg)  \\\n",
       "0      2001-01-12 15:00:00  2001     1  12      15:00                 2.0   \n",
       "1      2001-01-12 16:00:00  2001     1  12      16:00                 1.0   \n",
       "2      2001-01-12 17:00:00  2001     1  12      17:00                 2.0   \n",
       "3      2001-01-12 18:00:00  2001     1  12      18:00                 2.0   \n",
       "4      2001-01-12 19:00:00  2001     1  12      19:00                 3.0   \n",
       "...                    ...   ...   ...  ..        ...                 ...   \n",
       "311248 2023-08-18 21:00:00  2023     8  18      21:00                34.0   \n",
       "311249 2023-08-18 22:00:00  2023     8  18      22:00                29.0   \n",
       "311250 2023-08-18 22:00:00  2023     8  18      22:00                31.0   \n",
       "311251 2023-08-18 23:00:00  2023     8  18      23:00                29.0   \n",
       "311252 2023-08-18 23:00:00  2023     8  18      23:00                30.0   \n",
       "\n",
       "        Wind Spd (km/h)  \n",
       "0                  13.0  \n",
       "1                  11.0  \n",
       "2                   9.0  \n",
       "3                   9.0  \n",
       "4                  11.0  \n",
       "...                 ...  \n",
       "311248             19.0  \n",
       "311249             18.0  \n",
       "311250             15.0  \n",
       "311251             26.0  \n",
       "311252             19.0  \n",
       "\n",
       "[311253 rows x 11 columns]"
      ]
     },
     "execution_count": 8,
     "metadata": {},
     "output_type": "execute_result"
    }
   ],
   "source": [
    "df"
   ]
  },
  {
   "cell_type": "code",
   "execution_count": 9,
   "id": "dfa8be8f-c0c9-4d75-8709-2986dba98aaa",
   "metadata": {},
   "outputs": [],
   "source": [
    "max_single_state = 5\n",
    "state_bin_size = 10\n",
    "\n",
    "df.loc[valid_mask, 'Wind Spd State'] = df.loc[valid_mask, 'Wind Spd (km/h)'] // state_bin_size\n",
    "df.loc[~valid_mask, 'Wind Spd State'] = np.nan\n",
    "df['Wind Spd State'].clip(upper=max_single_state, inplace=True)\n",
    "df.loc[:,'Wind Spd State'] = df['Wind Spd State'].astype('Int8')"
   ]
  },
  {
   "cell_type": "code",
   "execution_count": 10,
   "id": "72466a40-6191-45c0-9fd5-b8a637b53ec9",
   "metadata": {},
   "outputs": [
    {
     "data": {
      "text/plain": [
       "Climate ID\n",
       "3034479    Axes(0.125,0.11;0.775x0.77)\n",
       "3034485    Axes(0.125,0.11;0.775x0.77)\n",
       "Name: Wind Spd (km/h), dtype: object"
      ]
     },
     "execution_count": 10,
     "metadata": {},
     "output_type": "execute_result"
    },
    {
     "data": {
      "image/png": "[encoded data removed]",
      "text/plain": [
       "<Figure size 640x480 with 1 Axes>"
      ]
     },
     "metadata": {},
     "output_type": "display_data"
    }
   ],
   "source": [
    "df.groupby('Climate ID')['Wind Spd (km/h)'].hist(alpha=0.5)"
   ]
  },
  {
   "cell_type": "code",
   "execution_count": 11,
   "id": "51fffcf7-a31b-4bf6-83a2-9376b87cf8e3",
   "metadata": {},
   "outputs": [
    {
     "data": {
      "text/plain": [
       "Climate ID\n",
       "3034479    Axes(0.125,0.11;0.775x0.77)\n",
       "3034485    Axes(0.125,0.11;0.775x0.77)\n",
       "Name: Wind Spd State, dtype: object"
      ]
     },
     "execution_count": 11,
     "metadata": {},
     "output_type": "execute_result"
    },
    {
     "data": {
      "image/png": "[encoded data removed]",
      "text/plain": [
       "<Figure size 640x480 with 1 Axes>"
      ]
     },
     "metadata": {},
     "output_type": "display_data"
    }
   ],
   "source": [
    "df.groupby('Climate ID')['Wind Spd State'].hist(alpha=0.5)"
   ]
  },
  {
   "cell_type": "code",
   "execution_count": null,
   "id": "9d12166a-1ed0-4248-a837-9eba44ba314d",
   "metadata": {},
   "outputs": [],
   "source": []
  },
  {
   "cell_type": "code",
   "execution_count": 12,
   "id": "81b287b9-2408-4a05-ac33-a06652252fab",
   "metadata": {},
   "outputs": [
    {
     "data": {
      "text/html": [
       "<div>\n",
       "<style scoped>\n",
       "    .dataframe tbody tr th:only-of-type {\n",
       "        vertical-align: middle;\n",
       "    }\n",
       "\n",
       "    .dataframe tbody tr th {\n",
       "        vertical-align: top;\n",
       "    }\n",
       "\n",
       "    .dataframe thead th {\n",
       "        text-align: right;\n",
       "    }\n",
       "</style>\n",
       "<table border=\"1\" class=\"dataframe\">\n",
       "  <thead>\n",
       "    <tr style=\"text-align: right;\">\n",
       "      <th></th>\n",
       "      <th>3034479 - Wind Spd State</th>\n",
       "      <th>3034485 - Wind Spd State</th>\n",
       "    </tr>\n",
       "    <tr>\n",
       "      <th>Date/Time (LST)</th>\n",
       "      <th></th>\n",
       "      <th></th>\n",
       "    </tr>\n",
       "  </thead>\n",
       "  <tbody>\n",
       "    <tr>\n",
       "      <th>2001-01-12 15:00:00</th>\n",
       "      <td>&lt;NA&gt;</td>\n",
       "      <td>1</td>\n",
       "    </tr>\n",
       "    <tr>\n",
       "      <th>2001-01-12 16:00:00</th>\n",
       "      <td>&lt;NA&gt;</td>\n",
       "      <td>1</td>\n",
       "    </tr>\n",
       "    <tr>\n",
       "      <th>2001-01-12 17:00:00</th>\n",
       "      <td>&lt;NA&gt;</td>\n",
       "      <td>0</td>\n",
       "    </tr>\n",
       "    <tr>\n",
       "      <th>2001-01-12 18:00:00</th>\n",
       "      <td>&lt;NA&gt;</td>\n",
       "      <td>0</td>\n",
       "    </tr>\n",
       "    <tr>\n",
       "      <th>2001-01-12 19:00:00</th>\n",
       "      <td>&lt;NA&gt;</td>\n",
       "      <td>1</td>\n",
       "    </tr>\n",
       "    <tr>\n",
       "      <th>...</th>\n",
       "      <td>...</td>\n",
       "      <td>...</td>\n",
       "    </tr>\n",
       "    <tr>\n",
       "      <th>2023-08-18 19:00:00</th>\n",
       "      <td>4</td>\n",
       "      <td>2</td>\n",
       "    </tr>\n",
       "    <tr>\n",
       "      <th>2023-08-18 20:00:00</th>\n",
       "      <td>3</td>\n",
       "      <td>2</td>\n",
       "    </tr>\n",
       "    <tr>\n",
       "      <th>2023-08-18 21:00:00</th>\n",
       "      <td>3</td>\n",
       "      <td>1</td>\n",
       "    </tr>\n",
       "    <tr>\n",
       "      <th>2023-08-18 22:00:00</th>\n",
       "      <td>1</td>\n",
       "      <td>1</td>\n",
       "    </tr>\n",
       "    <tr>\n",
       "      <th>2023-08-18 23:00:00</th>\n",
       "      <td>2</td>\n",
       "      <td>1</td>\n",
       "    </tr>\n",
       "  </tbody>\n",
       "</table>\n",
       "<p>198081 rows × 2 columns</p>\n",
       "</div>"
      ],
      "text/plain": [
       "                     3034479 - Wind Spd State  3034485 - Wind Spd State\n",
       "Date/Time (LST)                                                        \n",
       "2001-01-12 15:00:00                      <NA>                         1\n",
       "2001-01-12 16:00:00                      <NA>                         1\n",
       "2001-01-12 17:00:00                      <NA>                         0\n",
       "2001-01-12 18:00:00                      <NA>                         0\n",
       "2001-01-12 19:00:00                      <NA>                         1\n",
       "...                                       ...                       ...\n",
       "2023-08-18 19:00:00                         4                         2\n",
       "2023-08-18 20:00:00                         3                         2\n",
       "2023-08-18 21:00:00                         3                         1\n",
       "2023-08-18 22:00:00                         1                         1\n",
       "2023-08-18 23:00:00                         2                         1\n",
       "\n",
       "[198081 rows x 2 columns]"
      ]
     },
     "metadata": {},
     "output_type": "display_data"
    }
   ],
   "source": [
    "ts_dfs = []\n",
    "for index, sub_df in df.groupby(by='Climate ID'):\n",
    "    ts_df = sub_df[['Date/Time (LST)', 'Wind Spd State', ]]\n",
    "    ts_df = (\n",
    "        ts_df\n",
    "        .set_index('Date/Time (LST)')\n",
    "        .rename(\n",
    "            columns={\n",
    "                colname: f'{index} - {colname}'\n",
    "                for colname in ts_df.columns\n",
    "            },\n",
    "        )\n",
    "    )\n",
    "    ts_dfs.append(ts_df)\n",
    "\n",
    "ts_df = pd.concat(ts_dfs, ignore_index=False, axis='columns')\n",
    "display(ts_df)"
   ]
  },
  {
   "cell_type": "code",
   "execution_count": 13,
   "id": "41d3194c-2f32-4515-a222-cafdc62fd007",
   "metadata": {},
   "outputs": [],
   "source": [
    "ts_df['Wind Spd Multi-State'] = ts_df.iloc[:, 0] + max_single_state*ts_df.iloc[:, 1]"
   ]
  },
  {
   "cell_type": "code",
   "execution_count": 14,
   "id": "b9fe7afa-0bb8-452a-ae2c-6b4538315eac",
   "metadata": {},
   "outputs": [
    {
     "data": {
      "text/plain": [
       "0"
      ]
     },
     "execution_count": 14,
     "metadata": {},
     "output_type": "execute_result"
    }
   ],
   "source": [
    "ts_df.iloc[:, 0].min()"
   ]
  },
  {
   "cell_type": "code",
   "execution_count": 15,
   "id": "b892a89b-b66d-49aa-9e40-08e9d4619cc6",
   "metadata": {},
   "outputs": [
    {
     "data": {
      "text/plain": [
       "5"
      ]
     },
     "execution_count": 15,
     "metadata": {},
     "output_type": "execute_result"
    }
   ],
   "source": [
    "ts_df.iloc[:, 0].max()"
   ]
  },
  {
   "cell_type": "code",
   "execution_count": 16,
   "id": "e03d1495-915c-404d-b3c9-70ce0aa115dd",
   "metadata": {},
   "outputs": [
    {
     "data": {
      "text/plain": [
       "0"
      ]
     },
     "execution_count": 16,
     "metadata": {},
     "output_type": "execute_result"
    }
   ],
   "source": [
    "ts_df.iloc[:, 1].min()"
   ]
  },
  {
   "cell_type": "code",
   "execution_count": 17,
   "id": "074e5c0f-339f-4cd1-8cdc-8c970bc9b550",
   "metadata": {},
   "outputs": [
    {
     "data": {
      "text/plain": [
       "5"
      ]
     },
     "execution_count": 17,
     "metadata": {},
     "output_type": "execute_result"
    }
   ],
   "source": [
    "ts_df.iloc[:, 1].max()"
   ]
  },
  {
   "cell_type": "code",
   "execution_count": 18,
   "id": "2789f0f4-7b2e-46a9-a496-0107055efeae",
   "metadata": {},
   "outputs": [
    {
     "data": {
      "text/plain": [
       "0"
      ]
     },
     "execution_count": 18,
     "metadata": {},
     "output_type": "execute_result"
    }
   ],
   "source": [
    "ts_df['Wind Spd Multi-State'].min()"
   ]
  },
  {
   "cell_type": "code",
   "execution_count": 19,
   "id": "7ff893bf-70da-4861-bc9c-9e02d4b6d5cc",
   "metadata": {},
   "outputs": [
    {
     "data": {
      "text/plain": [
       "30"
      ]
     },
     "execution_count": 19,
     "metadata": {},
     "output_type": "execute_result"
    }
   ],
   "source": [
    "ts_df['Wind Spd Multi-State'].max()"
   ]
  },
  {
   "cell_type": "code",
   "execution_count": 20,
   "id": "ecc55957-7ad0-49fb-80ca-b99a6fd36977",
   "metadata": {},
   "outputs": [
    {
     "data": {
      "text/plain": [
       "<Axes: >"
      ]
     },
     "execution_count": 20,
     "metadata": {},
     "output_type": "execute_result"
    },
    {
     "data": {
      "image/png": "[encoded data removed]",
      "text/plain": [
       "<Figure size 640x480 with 1 Axes>"
      ]
     },
     "metadata": {},
     "output_type": "display_data"
    }
   ],
   "source": [
    "ts_df['Wind Spd Multi-State'].hist()"
   ]
  },
  {
   "cell_type": "code",
   "execution_count": 21,
   "id": "75496b63-33c0-4fc7-9062-6f0cb9dfee74",
   "metadata": {},
   "outputs": [
    {
     "data": {
      "text/plain": [
       "36"
      ]
     },
     "metadata": {},
     "output_type": "display_data"
    }
   ],
   "source": [
    "max_multi_state_val = (max_single_state+1)**2\n",
    "display(max_multi_state_val)"
   ]
  },
  {
   "cell_type": "code",
   "execution_count": 22,
   "id": "6a9fb427-974d-4b01-a6ca-27ad2d977eaf",
   "metadata": {},
   "outputs": [
    {
     "data": {
      "text/plain": [
       "30"
      ]
     },
     "execution_count": 22,
     "metadata": {},
     "output_type": "execute_result"
    }
   ],
   "source": [
    "ts_df['Wind Spd Multi-State'].max()"
   ]
  },
  {
   "cell_type": "code",
   "execution_count": 23,
   "id": "8960121c-3733-4029-b08e-9222a787f417",
   "metadata": {},
   "outputs": [],
   "source": [
    "def objective_func(xx, p_ijh=None, weights=None):\n",
    "    num_elements = xx.size\n",
    "    side = int(np.sqrt(num_elements))\n",
    "    matrix = xx.reshape(side,side)\n",
    "\n",
    "    delta_matrices = [\n",
    "        pij_h - matrix**hh\n",
    "        for hh, pij_h  in enumerate(p_ijh, start=1)\n",
    "    ]\n",
    "\n",
    "    if weights is None:\n",
    "        weights = np.array([1/len(delta_matrices) for _ in delta_matrices])\n",
    "\n",
    "    delta_scores = np.array([\n",
    "        np.linalg.norm(d_mat)\n",
    "        for d_mat in delta_matrices\n",
    "    ])\n",
    "    score = np.sum(weights * delta_scores)\n",
    "\n",
    "    return score"
   ]
  },
  {
   "cell_type": "code",
   "execution_count": 26,
   "id": "cf67129e-4348-4e86-ac08-f7f2f5d2dcc1",
   "metadata": {},
   "outputs": [
    {
     "data": {
      "text/plain": [
       " message: Optimization terminated successfully.\n",
       " success: True\n",
       "     fun: 1.0865671551717337\n",
       "       x: [ 7.163e-01  1.323e-01 ...  0.000e+00  0.000e+00]\n",
       "     nit: 42\n",
       "    nfev: 863157"
      ]
     },
     "metadata": {},
     "output_type": "display_data"
    },
    {
     "data": {
      "text/plain": [
       " message: Optimization terminated successfully.\n",
       " success: True\n",
       "     fun: 1.9490048208126236\n",
       "       x: [ 7.163e-01  1.323e-01 ...  0.000e+00  0.000e+00]\n",
       "     nit: 38\n",
       "    nfev: 775021"
      ]
     },
     "metadata": {},
     "output_type": "display_data"
    }
   ],
   "source": [
    "results = []\n",
    "for idx,(train_range, test_range) in enumerate(get_train_test_time_ranges()):\n",
    "    train_start, train_end = train_range\n",
    "\n",
    "    train_mask = ts_df.index.map(lambda time_idx: time_idx >= train_start and time_idx <= train_end)\n",
    "\n",
    "    train_state_ts = ts_df.loc[train_mask, 'Wind Spd Multi-State']\n",
    "    test_state_ts = ts_df.loc[~train_mask, 'Wind Spd Multi-State']\n",
    "\n",
    "    n_ijh = calculate_n_ijh(train_state_ts)\n",
    "    p_ijh = calculate_p_ijh(\n",
    "        train_state_ts, n_ijh,\n",
    "        min_state=0, \n",
    "        max_state=max_multi_state_val-1,\n",
    "    )\n",
    "    \n",
    "    result = sp.optimize.differential_evolution(\n",
    "        func=functools.partial(\n",
    "            objective_func,\n",
    "            p_ijh=p_ijh,\n",
    "            # weights=None,\n",
    "        ),\n",
    "        bounds=[\n",
    "            (-1, 1)\n",
    "            for _ in np.ravel(p_ijh[0])\n",
    "        ],\n",
    "        x0=np.ravel(p_ijh[0]) if len(results) == 0 else results[-1].x,\n",
    "        maxiter=100,\n",
    "    )\n",
    "    results.append(result)\n",
    "    display(result)\n",
    "\n",
    "    with open(f'markov-chain-with-magnitude-diff-evo-{idx}.json', 'w') as flink:\n",
    "        json.dump(list(result.x), flink)"
   ]
  },
  {
   "cell_type": "code",
   "execution_count": 27,
   "id": "a804e8a7-fcad-4456-b54a-c08c7a2d4645",
   "metadata": {},
   "outputs": [
    {
     "data": {
      "text/plain": [
       "0.39"
      ]
     },
     "metadata": {},
     "output_type": "display_data"
    },
    {
     "data": {
      "text/plain": [
       " message: Optimization terminated successfully.\n",
       " success: True\n",
       "     fun: 1.0865671551717337\n",
       "       x: [ 7.163e-01  1.323e-01 ...  0.000e+00  0.000e+00]\n",
       "     nit: 42\n",
       "    nfev: 863157"
      ]
     },
     "metadata": {},
     "output_type": "display_data"
    },
    {
     "name": "stdout",
     "output_type": "stream",
     "text": [
      "\n"
     ]
    },
    {
     "data": {
      "text/plain": [
       "0.39"
      ]
     },
     "metadata": {},
     "output_type": "display_data"
    },
    {
     "data": {
      "text/plain": [
       " message: Optimization terminated successfully.\n",
       " success: True\n",
       "     fun: 1.9490048208126236\n",
       "       x: [ 7.163e-01  1.323e-01 ...  0.000e+00  0.000e+00]\n",
       "     nit: 38\n",
       "    nfev: 775021"
      ]
     },
     "metadata": {},
     "output_type": "display_data"
    },
    {
     "name": "stdout",
     "output_type": "stream",
     "text": [
      "\n"
     ]
    }
   ],
   "source": [
    "for (train_range, test_range), result in zip(get_train_test_time_ranges(),results):\n",
    "    train_start, train_end = train_range\n",
    "    test_start, test_range = train_range\n",
    "\n",
    "    train_mask = ts_df.index.map(lambda time_idx: time_idx >= train_start and time_idx <= train_end)\n",
    "    test_mask = ts_df.index.map(lambda time_idx: time_idx >= test_start and time_idx <= test_range)\n",
    "\n",
    "    train_state_ts = ts_df.loc[train_mask, 'Wind Spd Multi-State']\n",
    "    test_state_ts = ts_df.loc[test_mask, 'Wind Spd Multi-State']\n",
    "\n",
    "    forcast_series = evaluate_markov_chain(\n",
    "        test_state_ts,\n",
    "        transition_matrix_vec=result.x,\n",
    "        vec_size=max_multi_state_val,\n",
    "    )\n",
    "\n",
    "    mean_error = (test_state_ts.iloc[:100] == forcast_series).mean()\n",
    "    display(mean_error)\n",
    "\n",
    "    display(result)\n",
    "    print()\n"
   ]
  },
  {
   "cell_type": "code",
   "execution_count": 29,
   "id": "d0ce9f9a-9083-4c17-b30e-d49fd9a7939d",
   "metadata": {},
   "outputs": [
    {
     "data": {
      "image/png": "[encoded data removed]",
      "text/plain": [
       "<Figure size 640x480 with 1 Axes>"
      ]
     },
     "metadata": {},
     "output_type": "display_data"
    }
   ],
   "source": [
    "fig, ax = plt.subplots()\n",
    "\n",
    "ax.plot(\n",
    "    test_state_ts.index.to_numpy()[:100],\n",
    "    forcast_series,\n",
    ")\n",
    "test_valid_mask = ~test_state_ts.isna()\n",
    "# ax.plot(\n",
    "#     test_state_ts[test_valid_mask].index,\n",
    "#     test_state_ts[test_valid_mask].values,\n",
    "# )"
   ]
  },
  {
   "cell_type": "code",
   "execution_count": 30,
   "id": "5a3fd37b-56d2-40b1-985d-bee75a03b7bb",
   "metadata": {},
   "outputs": [
    {
     "data": {
      "image/png": "[encoded data removed]",
      "text/plain": [
       "<Figure size 640x480 with 1 Axes>"
      ]
     },
     "metadata": {},
     "output_type": "display_data"
    }
   ],
   "source": [
    "\n",
    "forcast_series_1 = evaluate_markov_chain(\n",
    "    test_state_ts,\n",
    "    transition_matrix_vec=np.ravel(p_ijh[0]),\n",
    "    vec_size=max_multi_state_val,\n",
    ")\n",
    "\n",
    "\n",
    "fig, ax = plt.subplots()\n",
    "\n",
    "ax.plot(\n",
    "    test_state_ts.index.to_numpy()[:100],\n",
    "    forcast_series_1,\n",
    ")\n",
    "test_valid_mask = ~test_state_ts.isna()\n",
    "# ax.plot(\n",
    "#     test_state_ts[test_valid_mask].index,\n",
    "#     test_state_ts[test_valid_mask].values,\n",
    "# )\n"
   ]
  },
  {
   "cell_type": "code",
   "execution_count": 32,
   "id": "e1b9c26c-74fb-4270-bec6-d724b0469d21",
   "metadata": {},
   "outputs": [
    {
     "data": {
      "text/plain": [
       "<matplotlib.colorbar.Colorbar at 0x7f8712047640>"
      ]
     },
     "execution_count": 32,
     "metadata": {},
     "output_type": "execute_result"
    },
    {
     "data": {
      "image/png": "[encoded data removed]",
      "text/plain": [
       "<Figure size 640x480 with 2 Axes>"
      ]
     },
     "metadata": {},
     "output_type": "display_data"
    }
   ],
   "source": [
    "plt.imshow(p_ijh[0])\n",
    "plt.colorbar()"
   ]
  },
  {
   "cell_type": "code",
   "execution_count": null,
   "id": "16dae80e-32d3-4e91-a392-fc89ab6e95ac",
   "metadata": {},
   "outputs": [],
   "source": []
  }
 ],
 "metadata": {
  "kernelspec": {
   "display_name": "Python 3 (ipykernel)",
   "language": "python",
   "name": "python3"
  },
  "language_info": {
   "codemirror_mode": {
    "name": "ipython",
    "version": 3
   },
   "file_extension": ".py",
   "mimetype": "text/x-python",
   "name": "python",
   "nbconvert_exporter": "python",
   "pygments_lexer": "ipython3",
   "version": "3.10.5"
  }
 },
 "nbformat": 4,
 "nbformat_minor": 5
}
