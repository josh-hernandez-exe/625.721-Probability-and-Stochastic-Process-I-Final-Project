{
 "cells": [
  {
   "cell_type": "code",
   "execution_count": 1,
   "id": "64f7cc66-0ccf-41d6-85e7-5d7a3e914377",
   "metadata": {},
   "outputs": [],
   "source": [
    "import json\n",
    "import functools\n",
    "import multiprocessing\n",
    "from pathlib import Path\n",
    "\n",
    "import numpy as np\n",
    "import numpy.linalg\n",
    "import pandas as pd\n",
    "import scipy as sp\n",
    "import scipy.optimize\n",
    "from matplotlib import pyplot as plt\n",
    "\n",
    "from helper import (\n",
    "    get_station_data, \n",
    "    get_train_test_time_ranges,\n",
    "    evaluate_markov_chain,\n",
    "    calculate_n_ijh, calculate_p_ijh\n",
    ")"
   ]
  },
  {
   "cell_type": "code",
   "execution_count": 2,
   "id": "8a0661eb-db3b-420d-9ccc-e2713ed0647d",
   "metadata": {},
   "outputs": [],
   "source": [
    "province='AB'\n",
    "#province='BC'\n",
    "# province='MB'\n",
    "#province='NB'\n",
    "#province='NL'\n",
    "#province='NS'\n",
    "#province='NT'\n",
    "#province='NU'\n",
    "# province='ON'\n",
    "#province='PE'\n",
    "#province='QC'\n",
    "#province='SK'\n",
    "#province='YT'\n",
    "\n",
    "# station_id_set = set(['6158355', '6158359'])\n",
    "station_id_set = set(['3034479', '3034485'])"
   ]
  },
  {
   "cell_type": "code",
   "execution_count": 3,
   "id": "07620f48-b9ca-4695-a446-d8eb8edf4e79",
   "metadata": {},
   "outputs": [],
   "source": [
    "raw_data_base_dir = Path('raw-data')"
   ]
  },
  {
   "cell_type": "code",
   "execution_count": 4,
   "id": "a4fdf6fe-463a-4073-8b8d-09b120caae11",
   "metadata": {},
   "outputs": [],
   "source": [
    "df = get_station_data(\n",
    "    raw_data_base_dir / province,\n",
    "    station_id_set=station_id_set,\n",
    ")"
   ]
  },
  {
   "cell_type": "code",
   "execution_count": 5,
   "id": "2cdbc222-80a6-4187-929d-ea0475576e6f",
   "metadata": {},
   "outputs": [
    {
     "data": {
      "text/plain": [
       "311253"
      ]
     },
     "execution_count": 5,
     "metadata": {},
     "output_type": "execute_result"
    }
   ],
   "source": [
    "len(df)"
   ]
  },
  {
   "cell_type": "code",
   "execution_count": 6,
   "id": "bcfcdcdb-6fa2-41c0-bc4e-360c5a500efa",
   "metadata": {},
   "outputs": [
    {
     "data": {
      "text/html": [
       "<div>\n",
       "<style scoped>\n",
       "    .dataframe tbody tr th:only-of-type {\n",
       "        vertical-align: middle;\n",
       "    }\n",
       "\n",
       "    .dataframe tbody tr th {\n",
       "        vertical-align: top;\n",
       "    }\n",
       "\n",
       "    .dataframe thead th {\n",
       "        text-align: right;\n",
       "    }\n",
       "</style>\n",
       "<table border=\"1\" class=\"dataframe\">\n",
       "  <thead>\n",
       "    <tr style=\"text-align: right;\">\n",
       "      <th></th>\n",
       "      <th>Longitude (x)</th>\n",
       "      <th>Latitude (y)</th>\n",
       "      <th>Station Name</th>\n",
       "      <th>Date/Time (LST)</th>\n",
       "      <th>Year</th>\n",
       "      <th>Month</th>\n",
       "      <th>Day</th>\n",
       "      <th>Time (LST)</th>\n",
       "      <th>Wind Dir (10s deg)</th>\n",
       "      <th>Wind Spd (km/h)</th>\n",
       "    </tr>\n",
       "    <tr>\n",
       "      <th>Climate ID</th>\n",
       "      <th></th>\n",
       "      <th></th>\n",
       "      <th></th>\n",
       "      <th></th>\n",
       "      <th></th>\n",
       "      <th></th>\n",
       "      <th></th>\n",
       "      <th></th>\n",
       "      <th></th>\n",
       "      <th></th>\n",
       "    </tr>\n",
       "  </thead>\n",
       "  <tbody>\n",
       "    <tr>\n",
       "      <th>3034479</th>\n",
       "      <td>0</td>\n",
       "      <td>0</td>\n",
       "      <td>0</td>\n",
       "      <td>0</td>\n",
       "      <td>0</td>\n",
       "      <td>0</td>\n",
       "      <td>0</td>\n",
       "      <td>0</td>\n",
       "      <td>9405</td>\n",
       "      <td>1289</td>\n",
       "    </tr>\n",
       "    <tr>\n",
       "      <th>3034485</th>\n",
       "      <td>0</td>\n",
       "      <td>0</td>\n",
       "      <td>0</td>\n",
       "      <td>0</td>\n",
       "      <td>0</td>\n",
       "      <td>0</td>\n",
       "      <td>0</td>\n",
       "      <td>0</td>\n",
       "      <td>9609</td>\n",
       "      <td>915</td>\n",
       "    </tr>\n",
       "  </tbody>\n",
       "</table>\n",
       "</div>"
      ],
      "text/plain": [
       "            Longitude (x)  Latitude (y)  Station Name  Date/Time (LST)  Year  \\\n",
       "Climate ID                                                                     \n",
       "3034479                 0             0             0                0     0   \n",
       "3034485                 0             0             0                0     0   \n",
       "\n",
       "            Month  Day  Time (LST)  Wind Dir (10s deg)  Wind Spd (km/h)  \n",
       "Climate ID                                                               \n",
       "3034479         0    0           0                9405             1289  \n",
       "3034485         0    0           0                9609              915  "
      ]
     },
     "metadata": {},
     "output_type": "display_data"
    }
   ],
   "source": [
    "group = df.groupby('Climate ID')\n",
    "display(group.count().rsub(group.size(), axis=0))"
   ]
  },
  {
   "cell_type": "code",
   "execution_count": 7,
   "id": "dfa8be8f-c0c9-4d75-8709-2986dba98aaa",
   "metadata": {},
   "outputs": [
    {
     "data": {
      "text/html": [
       "<div>\n",
       "<style scoped>\n",
       "    .dataframe tbody tr th:only-of-type {\n",
       "        vertical-align: middle;\n",
       "    }\n",
       "\n",
       "    .dataframe tbody tr th {\n",
       "        vertical-align: top;\n",
       "    }\n",
       "\n",
       "    .dataframe thead th {\n",
       "        text-align: right;\n",
       "    }\n",
       "</style>\n",
       "<table border=\"1\" class=\"dataframe\">\n",
       "  <thead>\n",
       "    <tr style=\"text-align: right;\">\n",
       "      <th></th>\n",
       "      <th>Longitude (x)</th>\n",
       "      <th>Latitude (y)</th>\n",
       "      <th>Station Name</th>\n",
       "      <th>Climate ID</th>\n",
       "      <th>Date/Time (LST)</th>\n",
       "      <th>Year</th>\n",
       "      <th>Month</th>\n",
       "      <th>Day</th>\n",
       "      <th>Time (LST)</th>\n",
       "      <th>Wind Dir (10s deg)</th>\n",
       "      <th>Wind Spd (km/h)</th>\n",
       "    </tr>\n",
       "  </thead>\n",
       "  <tbody>\n",
       "    <tr>\n",
       "      <th>0</th>\n",
       "      <td>-110.72</td>\n",
       "      <td>50.03</td>\n",
       "      <td>MEDICINE HAT RCS</td>\n",
       "      <td>3034485</td>\n",
       "      <td>2001-01-12 15:00:00</td>\n",
       "      <td>2001</td>\n",
       "      <td>1</td>\n",
       "      <td>12</td>\n",
       "      <td>15:00</td>\n",
       "      <td>2.0</td>\n",
       "      <td>13.0</td>\n",
       "    </tr>\n",
       "    <tr>\n",
       "      <th>1</th>\n",
       "      <td>-110.72</td>\n",
       "      <td>50.03</td>\n",
       "      <td>MEDICINE HAT RCS</td>\n",
       "      <td>3034485</td>\n",
       "      <td>2001-01-12 16:00:00</td>\n",
       "      <td>2001</td>\n",
       "      <td>1</td>\n",
       "      <td>12</td>\n",
       "      <td>16:00</td>\n",
       "      <td>1.0</td>\n",
       "      <td>11.0</td>\n",
       "    </tr>\n",
       "    <tr>\n",
       "      <th>2</th>\n",
       "      <td>-110.72</td>\n",
       "      <td>50.03</td>\n",
       "      <td>MEDICINE HAT RCS</td>\n",
       "      <td>3034485</td>\n",
       "      <td>2001-01-12 17:00:00</td>\n",
       "      <td>2001</td>\n",
       "      <td>1</td>\n",
       "      <td>12</td>\n",
       "      <td>17:00</td>\n",
       "      <td>2.0</td>\n",
       "      <td>9.0</td>\n",
       "    </tr>\n",
       "    <tr>\n",
       "      <th>3</th>\n",
       "      <td>-110.72</td>\n",
       "      <td>50.03</td>\n",
       "      <td>MEDICINE HAT RCS</td>\n",
       "      <td>3034485</td>\n",
       "      <td>2001-01-12 18:00:00</td>\n",
       "      <td>2001</td>\n",
       "      <td>1</td>\n",
       "      <td>12</td>\n",
       "      <td>18:00</td>\n",
       "      <td>2.0</td>\n",
       "      <td>9.0</td>\n",
       "    </tr>\n",
       "    <tr>\n",
       "      <th>4</th>\n",
       "      <td>-110.72</td>\n",
       "      <td>50.03</td>\n",
       "      <td>MEDICINE HAT RCS</td>\n",
       "      <td>3034485</td>\n",
       "      <td>2001-01-12 19:00:00</td>\n",
       "      <td>2001</td>\n",
       "      <td>1</td>\n",
       "      <td>12</td>\n",
       "      <td>19:00</td>\n",
       "      <td>3.0</td>\n",
       "      <td>11.0</td>\n",
       "    </tr>\n",
       "    <tr>\n",
       "      <th>...</th>\n",
       "      <td>...</td>\n",
       "      <td>...</td>\n",
       "      <td>...</td>\n",
       "      <td>...</td>\n",
       "      <td>...</td>\n",
       "      <td>...</td>\n",
       "      <td>...</td>\n",
       "      <td>...</td>\n",
       "      <td>...</td>\n",
       "      <td>...</td>\n",
       "      <td>...</td>\n",
       "    </tr>\n",
       "    <tr>\n",
       "      <th>311248</th>\n",
       "      <td>-110.72</td>\n",
       "      <td>50.03</td>\n",
       "      <td>MEDICINE HAT RCS</td>\n",
       "      <td>3034485</td>\n",
       "      <td>2023-08-18 21:00:00</td>\n",
       "      <td>2023</td>\n",
       "      <td>8</td>\n",
       "      <td>18</td>\n",
       "      <td>21:00</td>\n",
       "      <td>34.0</td>\n",
       "      <td>19.0</td>\n",
       "    </tr>\n",
       "    <tr>\n",
       "      <th>311249</th>\n",
       "      <td>-110.72</td>\n",
       "      <td>50.02</td>\n",
       "      <td>MEDICINE HAT</td>\n",
       "      <td>3034479</td>\n",
       "      <td>2023-08-18 22:00:00</td>\n",
       "      <td>2023</td>\n",
       "      <td>8</td>\n",
       "      <td>18</td>\n",
       "      <td>22:00</td>\n",
       "      <td>29.0</td>\n",
       "      <td>18.0</td>\n",
       "    </tr>\n",
       "    <tr>\n",
       "      <th>311250</th>\n",
       "      <td>-110.72</td>\n",
       "      <td>50.03</td>\n",
       "      <td>MEDICINE HAT RCS</td>\n",
       "      <td>3034485</td>\n",
       "      <td>2023-08-18 22:00:00</td>\n",
       "      <td>2023</td>\n",
       "      <td>8</td>\n",
       "      <td>18</td>\n",
       "      <td>22:00</td>\n",
       "      <td>31.0</td>\n",
       "      <td>15.0</td>\n",
       "    </tr>\n",
       "    <tr>\n",
       "      <th>311251</th>\n",
       "      <td>-110.72</td>\n",
       "      <td>50.02</td>\n",
       "      <td>MEDICINE HAT</td>\n",
       "      <td>3034479</td>\n",
       "      <td>2023-08-18 23:00:00</td>\n",
       "      <td>2023</td>\n",
       "      <td>8</td>\n",
       "      <td>18</td>\n",
       "      <td>23:00</td>\n",
       "      <td>29.0</td>\n",
       "      <td>26.0</td>\n",
       "    </tr>\n",
       "    <tr>\n",
       "      <th>311252</th>\n",
       "      <td>-110.72</td>\n",
       "      <td>50.03</td>\n",
       "      <td>MEDICINE HAT RCS</td>\n",
       "      <td>3034485</td>\n",
       "      <td>2023-08-18 23:00:00</td>\n",
       "      <td>2023</td>\n",
       "      <td>8</td>\n",
       "      <td>18</td>\n",
       "      <td>23:00</td>\n",
       "      <td>30.0</td>\n",
       "      <td>19.0</td>\n",
       "    </tr>\n",
       "  </tbody>\n",
       "</table>\n",
       "<p>311253 rows × 11 columns</p>\n",
       "</div>"
      ],
      "text/plain": [
       "        Longitude (x)  Latitude (y)      Station Name Climate ID  \\\n",
       "0             -110.72         50.03  MEDICINE HAT RCS    3034485   \n",
       "1             -110.72         50.03  MEDICINE HAT RCS    3034485   \n",
       "2             -110.72         50.03  MEDICINE HAT RCS    3034485   \n",
       "3             -110.72         50.03  MEDICINE HAT RCS    3034485   \n",
       "4             -110.72         50.03  MEDICINE HAT RCS    3034485   \n",
       "...               ...           ...               ...        ...   \n",
       "311248        -110.72         50.03  MEDICINE HAT RCS    3034485   \n",
       "311249        -110.72         50.02      MEDICINE HAT    3034479   \n",
       "311250        -110.72         50.03  MEDICINE HAT RCS    3034485   \n",
       "311251        -110.72         50.02      MEDICINE HAT    3034479   \n",
       "311252        -110.72         50.03  MEDICINE HAT RCS    3034485   \n",
       "\n",
       "           Date/Time (LST)  Year Month Day Time (LST)  Wind Dir (10s deg)  \\\n",
       "0      2001-01-12 15:00:00  2001     1  12      15:00                 2.0   \n",
       "1      2001-01-12 16:00:00  2001     1  12      16:00                 1.0   \n",
       "2      2001-01-12 17:00:00  2001     1  12      17:00                 2.0   \n",
       "3      2001-01-12 18:00:00  2001     1  12      18:00                 2.0   \n",
       "4      2001-01-12 19:00:00  2001     1  12      19:00                 3.0   \n",
       "...                    ...   ...   ...  ..        ...                 ...   \n",
       "311248 2023-08-18 21:00:00  2023     8  18      21:00                34.0   \n",
       "311249 2023-08-18 22:00:00  2023     8  18      22:00                29.0   \n",
       "311250 2023-08-18 22:00:00  2023     8  18      22:00                31.0   \n",
       "311251 2023-08-18 23:00:00  2023     8  18      23:00                29.0   \n",
       "311252 2023-08-18 23:00:00  2023     8  18      23:00                30.0   \n",
       "\n",
       "        Wind Spd (km/h)  \n",
       "0                  13.0  \n",
       "1                  11.0  \n",
       "2                   9.0  \n",
       "3                   9.0  \n",
       "4                  11.0  \n",
       "...                 ...  \n",
       "311248             19.0  \n",
       "311249             18.0  \n",
       "311250             15.0  \n",
       "311251             26.0  \n",
       "311252             19.0  \n",
       "\n",
       "[311253 rows x 11 columns]"
      ]
     },
     "execution_count": 7,
     "metadata": {},
     "output_type": "execute_result"
    }
   ],
   "source": [
    "df"
   ]
  },
  {
   "cell_type": "code",
   "execution_count": 8,
   "id": "823bc7df-e920-49bc-90c6-484aeaba892d",
   "metadata": {},
   "outputs": [],
   "source": [
    "direction_mask = (\n",
    "    (~df['Wind Spd (km/h)'].isna())\n",
    "    *\n",
    "    (~df['Wind Dir (10s deg)'].isna())\n",
    "    *\n",
    "    (df['Wind Dir (10s deg)'] > (degree_tol := 0.1))\n",
    ")"
   ]
  },
  {
   "cell_type": "code",
   "execution_count": 9,
   "id": "7d381ff2-c6cc-4bbe-b8bd-d446ed341c63",
   "metadata": {},
   "outputs": [
    {
     "name": "stdout",
     "output_type": "stream",
     "text": [
      "deca_degree=0\n",
      "N/S: 1.0\n",
      "E/W: 0.0\n",
      "\n",
      "deca_degree=9\n",
      "N/S: 6.123233995736766e-17\n",
      "E/W: 1.0\n",
      "\n",
      "deca_degree=18\n",
      "N/S: -1.0\n",
      "E/W: 1.2246467991473532e-16\n",
      "\n",
      "deca_degree=27\n",
      "N/S: -1.8369701987210297e-16\n",
      "E/W: -1.0\n",
      "\n",
      "deca_degree=36\n",
      "N/S: 1.0\n",
      "E/W: -2.4492935982947064e-16\n",
      "\n"
     ]
    }
   ],
   "source": [
    "deca_degree_to_rad = 10 * np.pi / 180\n",
    "\n",
    "for deca_degree in [0, 9, 18, 27, 36]:\n",
    "    print(f'{deca_degree=}')\n",
    "    print('N/S: {}'.format(np.cos(deca_degree * deca_degree_to_rad)))\n",
    "    print('E/W: {}'.format(np.sin(deca_degree * deca_degree_to_rad)))\n",
    "    print()"
   ]
  },
  {
   "cell_type": "code",
   "execution_count": 10,
   "id": "adcf0c85-735e-46ae-a73b-f35d03d6439a",
   "metadata": {},
   "outputs": [],
   "source": [
    "df.loc[direction_mask, 'Wind Spd N/S'] = (\n",
    "    df.loc[direction_mask, 'Wind Spd (km/h)']\n",
    "    *\n",
    "    np.cos(\n",
    "        df.loc[direction_mask, 'Wind Dir (10s deg)'] * deca_degree_to_rad\n",
    "    )\n",
    ")\n",
    "df.loc[direction_mask, 'Wind Spd E/W'] = (\n",
    "    df.loc[direction_mask, 'Wind Spd (km/h)']\n",
    "    *\n",
    "    np.sin(\n",
    "        df.loc[direction_mask, 'Wind Dir (10s deg)'] * deca_degree_to_rad\n",
    "    )\n",
    ")\n",
    "\n",
    "df.loc[~direction_mask, ['Wind Spd N/S', 'Wind Spd E/W']] = np.nan"
   ]
  },
  {
   "cell_type": "code",
   "execution_count": 11,
   "id": "c7aecb76-971a-4a7c-ae18-2092d1b7f579",
   "metadata": {},
   "outputs": [
    {
     "data": {
      "image/png": "[encoded data removed]",
      "text/plain": [
       "<Figure size 640x480 with 2 Axes>"
      ]
     },
     "metadata": {},
     "output_type": "display_data"
    },
    {
     "data": {
      "image/png": "[encoded data removed]",
      "text/plain": [
       "<Figure size 640x480 with 2 Axes>"
      ]
     },
     "metadata": {},
     "output_type": "display_data"
    }
   ],
   "source": [
    "roll_window = 24*7\n",
    "\n",
    "for index, sub_df in df.groupby('Climate ID'):\n",
    "    fig, (ax_i1, ax_i2) = plt.subplots(nrows=2, sharex=True)\n",
    "    ax_i1.plot(\n",
    "        sub_df['Date/Time (LST)'],\n",
    "        sub_df['Wind Spd N/S'],\n",
    "        label='Moving Average',\n",
    "    )\n",
    "    ax_i1.plot(\n",
    "        sub_df['Date/Time (LST)'],\n",
    "        sub_df['Wind Spd N/S'].rolling(roll_window).mean(),\n",
    "        label='Moving Average',\n",
    "    )\n",
    "    ax_i2.plot(\n",
    "        sub_df['Date/Time (LST)'],\n",
    "        sub_df['Wind Spd E/W'],\n",
    "        label='Moving Average',\n",
    "    )\n",
    "    ax_i2.plot(\n",
    "        sub_df['Date/Time (LST)'],\n",
    "        sub_df['Wind Spd E/W'].rolling(roll_window).mean(),\n",
    "        label='Moving Average',\n",
    "    )\n",
    "plt.show()"
   ]
  },
  {
   "cell_type": "code",
   "execution_count": 12,
   "id": "389c7f53-19f5-4374-a588-d3b4a3888d07",
   "metadata": {},
   "outputs": [
    {
     "data": {
      "text/plain": [
       "Climate ID\n",
       "3034479    Axes(0.125,0.11;0.775x0.77)\n",
       "3034485    Axes(0.125,0.11;0.775x0.77)\n",
       "Name: Wind Spd N/S, dtype: object"
      ]
     },
     "execution_count": 12,
     "metadata": {},
     "output_type": "execute_result"
    },
    {
     "data": {
      "image/png": "[encoded data removed]",
      "text/plain": [
       "<Figure size 640x480 with 1 Axes>"
      ]
     },
     "metadata": {},
     "output_type": "display_data"
    }
   ],
   "source": [
    "df.groupby('Climate ID')['Wind Spd N/S'].hist(alpha=0.5)"
   ]
  },
  {
   "cell_type": "code",
   "execution_count": 13,
   "id": "53d7c3bd-41e5-4a00-afb9-9c4c374b2b3d",
   "metadata": {},
   "outputs": [
    {
     "data": {
      "text/plain": [
       "Climate ID\n",
       "3034479    Axes(0.125,0.11;0.775x0.77)\n",
       "3034485    Axes(0.125,0.11;0.775x0.77)\n",
       "Name: Wind Spd E/W, dtype: object"
      ]
     },
     "execution_count": 13,
     "metadata": {},
     "output_type": "execute_result"
    },
    {
     "data": {
      "image/png": "[encoded data removed]",
      "text/plain": [
       "<Figure size 640x480 with 1 Axes>"
      ]
     },
     "metadata": {},
     "output_type": "display_data"
    }
   ],
   "source": [
    "df.groupby('Climate ID')['Wind Spd E/W'].hist(alpha=0.5)"
   ]
  },
  {
   "cell_type": "code",
   "execution_count": 14,
   "id": "c1ed80ef-5ee2-4d90-9981-68de6ef7e2f7",
   "metadata": {},
   "outputs": [],
   "source": [
    "max_single_unsigned_state = 1\n",
    "state_bin_size = 20\n",
    "\n",
    "df['Wind Spd N/S State'] = df['Wind Spd N/S'] // state_bin_size\n",
    "df['Wind Spd E/W State'] = df['Wind Spd E/W'] // state_bin_size\n",
    "\n",
    "df['Wind Spd N/S State'].clip(lower=-max_single_unsigned_state-1, upper=max_single_unsigned_state, inplace=True)\n",
    "df['Wind Spd E/W State'].clip(lower=-max_single_unsigned_state-1, upper=max_single_unsigned_state, inplace=True)\n",
    "\n",
    "df['Wind Spd N/S State'] += max_single_unsigned_state+1\n",
    "df['Wind Spd E/W State'] += max_single_unsigned_state+1\n",
    "\n",
    "max_directional_state = 2*(max_single_unsigned_state+1)\n",
    "df['Wind Spd State'] = df['Wind Spd N/S State'] + max_directional_state*df['Wind Spd E/W State']\n",
    "\n",
    "df.loc[:,'Wind Spd State'] = df['Wind Spd State'].astype('Int16')"
   ]
  },
  {
   "cell_type": "code",
   "execution_count": 15,
   "id": "f0fee67a-e5f1-4fb3-93c0-70fed00def58",
   "metadata": {},
   "outputs": [
    {
     "data": {
      "text/plain": [
       "0.0"
      ]
     },
     "execution_count": 15,
     "metadata": {},
     "output_type": "execute_result"
    }
   ],
   "source": [
    "df['Wind Spd N/S State'].min()"
   ]
  },
  {
   "cell_type": "code",
   "execution_count": 16,
   "id": "05b6ca3d-a8f2-4c20-bc2c-a9e9e5b65601",
   "metadata": {},
   "outputs": [
    {
     "data": {
      "text/plain": [
       "3.0"
      ]
     },
     "execution_count": 16,
     "metadata": {},
     "output_type": "execute_result"
    }
   ],
   "source": [
    "df['Wind Spd N/S State'].max()"
   ]
  },
  {
   "cell_type": "code",
   "execution_count": 17,
   "id": "ae2eedd8-1a81-4a94-90b5-d94075cc9e24",
   "metadata": {},
   "outputs": [
    {
     "data": {
      "text/plain": [
       "5"
      ]
     },
     "execution_count": 17,
     "metadata": {},
     "output_type": "execute_result"
    }
   ],
   "source": [
    "df['Wind Spd N/S State'].unique().size"
   ]
  },
  {
   "cell_type": "code",
   "execution_count": 18,
   "id": "c9975b7b-9c24-4054-b4b8-11af0cc81890",
   "metadata": {},
   "outputs": [
    {
     "data": {
      "text/plain": [
       "0.0"
      ]
     },
     "execution_count": 18,
     "metadata": {},
     "output_type": "execute_result"
    }
   ],
   "source": [
    "df['Wind Spd E/W State'].min()"
   ]
  },
  {
   "cell_type": "code",
   "execution_count": 19,
   "id": "67406c6b-17de-481a-982d-9e3d42c4001b",
   "metadata": {},
   "outputs": [
    {
     "data": {
      "text/plain": [
       "3.0"
      ]
     },
     "execution_count": 19,
     "metadata": {},
     "output_type": "execute_result"
    }
   ],
   "source": [
    "df['Wind Spd E/W State'].max()"
   ]
  },
  {
   "cell_type": "code",
   "execution_count": 20,
   "id": "60ac39a6-a30a-483d-9b48-162b5dc79c0a",
   "metadata": {},
   "outputs": [
    {
     "data": {
      "text/plain": [
       "5"
      ]
     },
     "execution_count": 20,
     "metadata": {},
     "output_type": "execute_result"
    }
   ],
   "source": [
    "df['Wind Spd E/W State'].unique().size"
   ]
  },
  {
   "cell_type": "code",
   "execution_count": 21,
   "id": "12519e86-8ff8-4398-9a77-9931bda43c79",
   "metadata": {},
   "outputs": [
    {
     "data": {
      "text/plain": [
       "0"
      ]
     },
     "execution_count": 21,
     "metadata": {},
     "output_type": "execute_result"
    }
   ],
   "source": [
    "df['Wind Spd State'].min()"
   ]
  },
  {
   "cell_type": "code",
   "execution_count": 22,
   "id": "40b2c58c-4550-43e4-8bc1-cc847799aca1",
   "metadata": {},
   "outputs": [
    {
     "data": {
      "text/plain": [
       "15"
      ]
     },
     "execution_count": 22,
     "metadata": {},
     "output_type": "execute_result"
    }
   ],
   "source": [
    "df['Wind Spd State'].max()"
   ]
  },
  {
   "cell_type": "code",
   "execution_count": 23,
   "id": "5fd3cd73-03d6-49dc-8dc6-f6454d58a29a",
   "metadata": {},
   "outputs": [
    {
     "data": {
      "text/plain": [
       "16"
      ]
     },
     "metadata": {},
     "output_type": "display_data"
    }
   ],
   "source": [
    "max_location_state = max_directional_state ** 2\n",
    "display(max_location_state)"
   ]
  },
  {
   "cell_type": "code",
   "execution_count": 24,
   "id": "f2bac813-bf9c-4b17-bddb-75aed8455d88",
   "metadata": {},
   "outputs": [
    {
     "data": {
      "text/plain": [
       "Climate ID\n",
       "3034479    Axes(0.125,0.11;0.775x0.77)\n",
       "3034485    Axes(0.125,0.11;0.775x0.77)\n",
       "Name: Wind Spd State, dtype: object"
      ]
     },
     "execution_count": 24,
     "metadata": {},
     "output_type": "execute_result"
    },
    {
     "data": {
      "image/png": "[encoded data removed]",
      "text/plain": [
       "<Figure size 640x480 with 1 Axes>"
      ]
     },
     "metadata": {},
     "output_type": "display_data"
    }
   ],
   "source": [
    "df.groupby('Climate ID')['Wind Spd State'].hist(alpha=0.5)"
   ]
  },
  {
   "cell_type": "code",
   "execution_count": 25,
   "id": "81b287b9-2408-4a05-ac33-a06652252fab",
   "metadata": {},
   "outputs": [
    {
     "data": {
      "text/html": [
       "<div>\n",
       "<style scoped>\n",
       "    .dataframe tbody tr th:only-of-type {\n",
       "        vertical-align: middle;\n",
       "    }\n",
       "\n",
       "    .dataframe tbody tr th {\n",
       "        vertical-align: top;\n",
       "    }\n",
       "\n",
       "    .dataframe thead th {\n",
       "        text-align: right;\n",
       "    }\n",
       "</style>\n",
       "<table border=\"1\" class=\"dataframe\">\n",
       "  <thead>\n",
       "    <tr style=\"text-align: right;\">\n",
       "      <th></th>\n",
       "      <th>3034479 - Wind Spd State</th>\n",
       "      <th>3034485 - Wind Spd State</th>\n",
       "    </tr>\n",
       "    <tr>\n",
       "      <th>Date/Time (LST)</th>\n",
       "      <th></th>\n",
       "      <th></th>\n",
       "    </tr>\n",
       "  </thead>\n",
       "  <tbody>\n",
       "    <tr>\n",
       "      <th>2001-01-12 15:00:00</th>\n",
       "      <td>&lt;NA&gt;</td>\n",
       "      <td>10</td>\n",
       "    </tr>\n",
       "    <tr>\n",
       "      <th>2001-01-12 16:00:00</th>\n",
       "      <td>&lt;NA&gt;</td>\n",
       "      <td>10</td>\n",
       "    </tr>\n",
       "    <tr>\n",
       "      <th>2001-01-12 17:00:00</th>\n",
       "      <td>&lt;NA&gt;</td>\n",
       "      <td>10</td>\n",
       "    </tr>\n",
       "    <tr>\n",
       "      <th>2001-01-12 18:00:00</th>\n",
       "      <td>&lt;NA&gt;</td>\n",
       "      <td>10</td>\n",
       "    </tr>\n",
       "    <tr>\n",
       "      <th>2001-01-12 19:00:00</th>\n",
       "      <td>&lt;NA&gt;</td>\n",
       "      <td>10</td>\n",
       "    </tr>\n",
       "    <tr>\n",
       "      <th>...</th>\n",
       "      <td>...</td>\n",
       "      <td>...</td>\n",
       "    </tr>\n",
       "    <tr>\n",
       "      <th>2023-08-18 19:00:00</th>\n",
       "      <td>7</td>\n",
       "      <td>7</td>\n",
       "    </tr>\n",
       "    <tr>\n",
       "      <th>2023-08-18 20:00:00</th>\n",
       "      <td>7</td>\n",
       "      <td>6</td>\n",
       "    </tr>\n",
       "    <tr>\n",
       "      <th>2023-08-18 21:00:00</th>\n",
       "      <td>7</td>\n",
       "      <td>6</td>\n",
       "    </tr>\n",
       "    <tr>\n",
       "      <th>2023-08-18 22:00:00</th>\n",
       "      <td>6</td>\n",
       "      <td>6</td>\n",
       "    </tr>\n",
       "    <tr>\n",
       "      <th>2023-08-18 23:00:00</th>\n",
       "      <td>2</td>\n",
       "      <td>6</td>\n",
       "    </tr>\n",
       "  </tbody>\n",
       "</table>\n",
       "<p>198081 rows × 2 columns</p>\n",
       "</div>"
      ],
      "text/plain": [
       "                     3034479 - Wind Spd State  3034485 - Wind Spd State\n",
       "Date/Time (LST)                                                        \n",
       "2001-01-12 15:00:00                      <NA>                        10\n",
       "2001-01-12 16:00:00                      <NA>                        10\n",
       "2001-01-12 17:00:00                      <NA>                        10\n",
       "2001-01-12 18:00:00                      <NA>                        10\n",
       "2001-01-12 19:00:00                      <NA>                        10\n",
       "...                                       ...                       ...\n",
       "2023-08-18 19:00:00                         7                         7\n",
       "2023-08-18 20:00:00                         7                         6\n",
       "2023-08-18 21:00:00                         7                         6\n",
       "2023-08-18 22:00:00                         6                         6\n",
       "2023-08-18 23:00:00                         2                         6\n",
       "\n",
       "[198081 rows x 2 columns]"
      ]
     },
     "metadata": {},
     "output_type": "display_data"
    }
   ],
   "source": [
    "ts_dfs = []\n",
    "for index, sub_df in df.groupby(by='Climate ID'):\n",
    "    ts_df = sub_df[['Date/Time (LST)', 'Wind Spd State']]\n",
    "    ts_df = (\n",
    "        ts_df\n",
    "        .set_index('Date/Time (LST)')\n",
    "        .rename(\n",
    "            columns={\n",
    "                colname: f'{index} - {colname}'\n",
    "                for colname in ts_df.columns\n",
    "            },\n",
    "        )\n",
    "    )\n",
    "    ts_dfs.append(ts_df)\n",
    "\n",
    "ts_df = pd.concat(ts_dfs, ignore_index=False, axis='columns')\n",
    "display(ts_df)"
   ]
  },
  {
   "cell_type": "code",
   "execution_count": 26,
   "id": "85d4791e-7e65-4ef5-b2b2-e64a1099555b",
   "metadata": {},
   "outputs": [],
   "source": [
    "ts_df['Wind Spd Multi-State'] = ts_df.iloc[:, 0] + max_location_state*ts_df.iloc[:, 1]"
   ]
  },
  {
   "cell_type": "code",
   "execution_count": 27,
   "id": "b03a0ab1-b06f-463c-a9db-d80097860164",
   "metadata": {},
   "outputs": [
    {
     "data": {
      "text/plain": [
       "256"
      ]
     },
     "metadata": {},
     "output_type": "display_data"
    }
   ],
   "source": [
    "max_multi_state_val = (max_location_state)**2\n",
    "display(max_multi_state_val)"
   ]
  },
  {
   "cell_type": "code",
   "execution_count": 33,
   "id": "5200c0b4-e730-440c-9922-8b68d97a2ad2",
   "metadata": {},
   "outputs": [
    {
     "data": {
      "text/plain": [
       "0"
      ]
     },
     "execution_count": 33,
     "metadata": {},
     "output_type": "execute_result"
    }
   ],
   "source": [
    "ts_df['Wind Spd Multi-State'].min()"
   ]
  },
  {
   "cell_type": "code",
   "execution_count": 34,
   "id": "cd966553-5e58-4591-8a8d-fd2729397d5c",
   "metadata": {},
   "outputs": [
    {
     "data": {
      "text/plain": [
       "239"
      ]
     },
     "execution_count": 34,
     "metadata": {},
     "output_type": "execute_result"
    }
   ],
   "source": [
    "ts_df['Wind Spd Multi-State'].max()"
   ]
  },
  {
   "cell_type": "code",
   "execution_count": 28,
   "id": "74190556-f84e-4f1a-9cc5-750b313cbec7",
   "metadata": {},
   "outputs": [
    {
     "data": {
      "text/plain": [
       "<Axes: >"
      ]
     },
     "execution_count": 28,
     "metadata": {},
     "output_type": "execute_result"
    },
    {
     "data": {
      "image/png": "[encoded data removed]",
      "text/plain": [
       "<Figure size 640x480 with 1 Axes>"
      ]
     },
     "metadata": {},
     "output_type": "display_data"
    }
   ],
   "source": [
    "ts_df['Wind Spd Multi-State'].hist()"
   ]
  },
  {
   "cell_type": "code",
   "execution_count": 29,
   "id": "7d9a1ed5-7dc1-4bbb-85e2-8a9f04165712",
   "metadata": {},
   "outputs": [],
   "source": [
    "def objective_func(xx, p_ijh=None, weights=None):\n",
    "    num_elements = xx.size\n",
    "    side = int(np.sqrt(num_elements))\n",
    "    matrix = xx.reshape(side,side)\n",
    "\n",
    "    delta_matrices = [\n",
    "        pij_h - matrix**hh\n",
    "        for hh, pij_h  in enumerate(p_ijh, start=1)\n",
    "    ]\n",
    "\n",
    "    if weights is None:\n",
    "        weights = np.array([1/len(delta_matrices) for _ in delta_matrices])\n",
    "\n",
    "    delta_scores = np.array([\n",
    "        np.linalg.norm(d_mat)\n",
    "        for d_mat in delta_matrices\n",
    "    ])\n",
    "    score = np.sum(weights * delta_scores)\n",
    "\n",
    "    return score"
   ]
  },
  {
   "cell_type": "code",
   "execution_count": 30,
   "id": "cf67129e-4348-4e86-ac08-f7f2f5d2dcc1",
   "metadata": {},
   "outputs": [
    {
     "ename": "MemoryError",
     "evalue": "Unable to allocate 32.5 GiB for an array with shape (66049, 66049) and data type float64",
     "output_type": "error",
     "traceback": [
      "\u001b[0;31m---------------------------------------------------------------------------\u001b[0m",
      "\u001b[0;31mMemoryError\u001b[0m                               Traceback (most recent call last)",
      "Cell \u001b[0;32mIn[30], line 13\u001b[0m\n\u001b[1;32m     10\u001b[0m n_ijh \u001b[38;5;241m=\u001b[39m calculate_n_ijh(train_state_ts)\n\u001b[1;32m     11\u001b[0m p_ijh \u001b[38;5;241m=\u001b[39m calculate_p_ijh(train_state_ts, n_ijh, min_state\u001b[38;5;241m=\u001b[39m\u001b[38;5;241m0\u001b[39m, max_state\u001b[38;5;241m=\u001b[39mmax_multi_state_val)\n\u001b[0;32m---> 13\u001b[0m result \u001b[38;5;241m=\u001b[39m \u001b[43msp\u001b[49m\u001b[38;5;241;43m.\u001b[39;49m\u001b[43moptimize\u001b[49m\u001b[38;5;241;43m.\u001b[39;49m\u001b[43mminimize\u001b[49m\u001b[43m(\u001b[49m\n\u001b[1;32m     14\u001b[0m \u001b[43m    \u001b[49m\u001b[43mfun\u001b[49m\u001b[38;5;241;43m=\u001b[39;49m\u001b[43mfunctools\u001b[49m\u001b[38;5;241;43m.\u001b[39;49m\u001b[43mpartial\u001b[49m\u001b[43m(\u001b[49m\n\u001b[1;32m     15\u001b[0m \u001b[43m        \u001b[49m\u001b[43mobjective_func\u001b[49m\u001b[43m,\u001b[49m\n\u001b[1;32m     16\u001b[0m \u001b[43m        \u001b[49m\u001b[43mp_ijh\u001b[49m\u001b[38;5;241;43m=\u001b[39;49m\u001b[43mp_ijh\u001b[49m\u001b[43m,\u001b[49m\n\u001b[1;32m     17\u001b[0m \u001b[43m        \u001b[49m\u001b[38;5;66;43;03m# weights=None,\u001b[39;49;00m\n\u001b[1;32m     18\u001b[0m \u001b[43m    \u001b[49m\u001b[43m)\u001b[49m\u001b[43m,\u001b[49m\n\u001b[1;32m     19\u001b[0m \u001b[43m    \u001b[49m\u001b[43mx0\u001b[49m\u001b[38;5;241;43m=\u001b[39;49m\u001b[43mnp\u001b[49m\u001b[38;5;241;43m.\u001b[39;49m\u001b[43mravel\u001b[49m\u001b[43m(\u001b[49m\u001b[43mp_ijh\u001b[49m\u001b[43m[\u001b[49m\u001b[38;5;241;43m0\u001b[39;49m\u001b[43m]\u001b[49m\u001b[43m)\u001b[49m\u001b[43m \u001b[49m\u001b[38;5;28;43;01mif\u001b[39;49;00m\u001b[43m \u001b[49m\u001b[38;5;28;43mlen\u001b[39;49m\u001b[43m(\u001b[49m\u001b[43mresults\u001b[49m\u001b[43m)\u001b[49m\u001b[43m \u001b[49m\u001b[38;5;241;43m==\u001b[39;49m\u001b[43m \u001b[49m\u001b[38;5;241;43m0\u001b[39;49m\u001b[43m \u001b[49m\u001b[38;5;28;43;01melse\u001b[39;49;00m\u001b[43m \u001b[49m\u001b[43mresults\u001b[49m\u001b[43m[\u001b[49m\u001b[38;5;241;43m-\u001b[39;49m\u001b[38;5;241;43m1\u001b[39;49m\u001b[43m]\u001b[49m\u001b[38;5;241;43m.\u001b[39;49m\u001b[43mx\u001b[49m\u001b[43m,\u001b[49m\n\u001b[1;32m     20\u001b[0m \u001b[43m\u001b[49m\u001b[43m)\u001b[49m\n\u001b[1;32m     21\u001b[0m \u001b[38;5;28mprint\u001b[39m(result)\n\u001b[1;32m     22\u001b[0m results\u001b[38;5;241m.\u001b[39mappend(result)\n",
      "File \u001b[0;32m~/.local/share/virtualenvs/jhu-acm-grad-school-MxuOKGzq/lib/python3.10/site-packages/scipy/optimize/_minimize.py:705\u001b[0m, in \u001b[0;36mminimize\u001b[0;34m(fun, x0, args, method, jac, hess, hessp, bounds, constraints, tol, callback, options)\u001b[0m\n\u001b[1;32m    703\u001b[0m     res \u001b[38;5;241m=\u001b[39m _minimize_cg(fun, x0, args, jac, callback, \u001b[38;5;241m*\u001b[39m\u001b[38;5;241m*\u001b[39moptions)\n\u001b[1;32m    704\u001b[0m \u001b[38;5;28;01melif\u001b[39;00m meth \u001b[38;5;241m==\u001b[39m \u001b[38;5;124m'\u001b[39m\u001b[38;5;124mbfgs\u001b[39m\u001b[38;5;124m'\u001b[39m:\n\u001b[0;32m--> 705\u001b[0m     res \u001b[38;5;241m=\u001b[39m \u001b[43m_minimize_bfgs\u001b[49m\u001b[43m(\u001b[49m\u001b[43mfun\u001b[49m\u001b[43m,\u001b[49m\u001b[43m \u001b[49m\u001b[43mx0\u001b[49m\u001b[43m,\u001b[49m\u001b[43m \u001b[49m\u001b[43margs\u001b[49m\u001b[43m,\u001b[49m\u001b[43m \u001b[49m\u001b[43mjac\u001b[49m\u001b[43m,\u001b[49m\u001b[43m \u001b[49m\u001b[43mcallback\u001b[49m\u001b[43m,\u001b[49m\u001b[43m \u001b[49m\u001b[38;5;241;43m*\u001b[39;49m\u001b[38;5;241;43m*\u001b[39;49m\u001b[43moptions\u001b[49m\u001b[43m)\u001b[49m\n\u001b[1;32m    706\u001b[0m \u001b[38;5;28;01melif\u001b[39;00m meth \u001b[38;5;241m==\u001b[39m \u001b[38;5;124m'\u001b[39m\u001b[38;5;124mnewton-cg\u001b[39m\u001b[38;5;124m'\u001b[39m:\n\u001b[1;32m    707\u001b[0m     res \u001b[38;5;241m=\u001b[39m _minimize_newtoncg(fun, x0, args, jac, hess, hessp, callback,\n\u001b[1;32m    708\u001b[0m                              \u001b[38;5;241m*\u001b[39m\u001b[38;5;241m*\u001b[39moptions)\n",
      "File \u001b[0;32m~/.local/share/virtualenvs/jhu-acm-grad-school-MxuOKGzq/lib/python3.10/site-packages/scipy/optimize/_optimize.py:1418\u001b[0m, in \u001b[0;36m_minimize_bfgs\u001b[0;34m(fun, x0, args, jac, callback, gtol, norm, eps, maxiter, disp, return_all, finite_diff_rel_step, xrtol, **unknown_options)\u001b[0m\n\u001b[1;32m   1415\u001b[0m \u001b[38;5;28;01mif\u001b[39;00m maxiter \u001b[38;5;129;01mis\u001b[39;00m \u001b[38;5;28;01mNone\u001b[39;00m:\n\u001b[1;32m   1416\u001b[0m     maxiter \u001b[38;5;241m=\u001b[39m \u001b[38;5;28mlen\u001b[39m(x0) \u001b[38;5;241m*\u001b[39m \u001b[38;5;241m200\u001b[39m\n\u001b[0;32m-> 1418\u001b[0m sf \u001b[38;5;241m=\u001b[39m \u001b[43m_prepare_scalar_function\u001b[49m\u001b[43m(\u001b[49m\u001b[43mfun\u001b[49m\u001b[43m,\u001b[49m\u001b[43m \u001b[49m\u001b[43mx0\u001b[49m\u001b[43m,\u001b[49m\u001b[43m \u001b[49m\u001b[43mjac\u001b[49m\u001b[43m,\u001b[49m\u001b[43m \u001b[49m\u001b[43margs\u001b[49m\u001b[38;5;241;43m=\u001b[39;49m\u001b[43margs\u001b[49m\u001b[43m,\u001b[49m\u001b[43m \u001b[49m\u001b[43mepsilon\u001b[49m\u001b[38;5;241;43m=\u001b[39;49m\u001b[43meps\u001b[49m\u001b[43m,\u001b[49m\n\u001b[1;32m   1419\u001b[0m \u001b[43m                              \u001b[49m\u001b[43mfinite_diff_rel_step\u001b[49m\u001b[38;5;241;43m=\u001b[39;49m\u001b[43mfinite_diff_rel_step\u001b[49m\u001b[43m)\u001b[49m\n\u001b[1;32m   1421\u001b[0m f \u001b[38;5;241m=\u001b[39m sf\u001b[38;5;241m.\u001b[39mfun\n\u001b[1;32m   1422\u001b[0m myfprime \u001b[38;5;241m=\u001b[39m sf\u001b[38;5;241m.\u001b[39mgrad\n",
      "File \u001b[0;32m~/.local/share/virtualenvs/jhu-acm-grad-school-MxuOKGzq/lib/python3.10/site-packages/scipy/optimize/_optimize.py:383\u001b[0m, in \u001b[0;36m_prepare_scalar_function\u001b[0;34m(fun, x0, jac, args, bounds, epsilon, finite_diff_rel_step, hess)\u001b[0m\n\u001b[1;32m    379\u001b[0m     bounds \u001b[38;5;241m=\u001b[39m (\u001b[38;5;241m-\u001b[39mnp\u001b[38;5;241m.\u001b[39minf, np\u001b[38;5;241m.\u001b[39minf)\n\u001b[1;32m    381\u001b[0m \u001b[38;5;66;03m# ScalarFunction caches. Reuse of fun(x) during grad\u001b[39;00m\n\u001b[1;32m    382\u001b[0m \u001b[38;5;66;03m# calculation reduces overall function evaluations.\u001b[39;00m\n\u001b[0;32m--> 383\u001b[0m sf \u001b[38;5;241m=\u001b[39m \u001b[43mScalarFunction\u001b[49m\u001b[43m(\u001b[49m\u001b[43mfun\u001b[49m\u001b[43m,\u001b[49m\u001b[43m \u001b[49m\u001b[43mx0\u001b[49m\u001b[43m,\u001b[49m\u001b[43m \u001b[49m\u001b[43margs\u001b[49m\u001b[43m,\u001b[49m\u001b[43m \u001b[49m\u001b[43mgrad\u001b[49m\u001b[43m,\u001b[49m\u001b[43m \u001b[49m\u001b[43mhess\u001b[49m\u001b[43m,\u001b[49m\n\u001b[1;32m    384\u001b[0m \u001b[43m                    \u001b[49m\u001b[43mfinite_diff_rel_step\u001b[49m\u001b[43m,\u001b[49m\u001b[43m \u001b[49m\u001b[43mbounds\u001b[49m\u001b[43m,\u001b[49m\u001b[43m \u001b[49m\u001b[43mepsilon\u001b[49m\u001b[38;5;241;43m=\u001b[39;49m\u001b[43mepsilon\u001b[49m\u001b[43m)\u001b[49m\n\u001b[1;32m    386\u001b[0m \u001b[38;5;28;01mreturn\u001b[39;00m sf\n",
      "File \u001b[0;32m~/.local/share/virtualenvs/jhu-acm-grad-school-MxuOKGzq/lib/python3.10/site-packages/scipy/optimize/_differentiable_functions.py:177\u001b[0m, in \u001b[0;36mScalarFunction.__init__\u001b[0;34m(self, fun, x0, args, grad, hess, finite_diff_rel_step, finite_diff_bounds, epsilon)\u001b[0m\n\u001b[1;32m    173\u001b[0m         \u001b[38;5;28mself\u001b[39m\u001b[38;5;241m.\u001b[39mg \u001b[38;5;241m=\u001b[39m approx_derivative(fun_wrapped, \u001b[38;5;28mself\u001b[39m\u001b[38;5;241m.\u001b[39mx, f0\u001b[38;5;241m=\u001b[39m\u001b[38;5;28mself\u001b[39m\u001b[38;5;241m.\u001b[39mf,\n\u001b[1;32m    174\u001b[0m                                    \u001b[38;5;241m*\u001b[39m\u001b[38;5;241m*\u001b[39mfinite_diff_options)\n\u001b[1;32m    176\u001b[0m \u001b[38;5;28mself\u001b[39m\u001b[38;5;241m.\u001b[39m_update_grad_impl \u001b[38;5;241m=\u001b[39m update_grad\n\u001b[0;32m--> 177\u001b[0m \u001b[38;5;28;43mself\u001b[39;49m\u001b[38;5;241;43m.\u001b[39;49m\u001b[43m_update_grad\u001b[49m\u001b[43m(\u001b[49m\u001b[43m)\u001b[49m\n\u001b[1;32m    179\u001b[0m \u001b[38;5;66;03m# Hessian Evaluation\u001b[39;00m\n\u001b[1;32m    180\u001b[0m \u001b[38;5;28;01mif\u001b[39;00m \u001b[38;5;28mcallable\u001b[39m(hess):\n",
      "File \u001b[0;32m~/.local/share/virtualenvs/jhu-acm-grad-school-MxuOKGzq/lib/python3.10/site-packages/scipy/optimize/_differentiable_functions.py:256\u001b[0m, in \u001b[0;36mScalarFunction._update_grad\u001b[0;34m(self)\u001b[0m\n\u001b[1;32m    254\u001b[0m \u001b[38;5;28;01mdef\u001b[39;00m \u001b[38;5;21m_update_grad\u001b[39m(\u001b[38;5;28mself\u001b[39m):\n\u001b[1;32m    255\u001b[0m     \u001b[38;5;28;01mif\u001b[39;00m \u001b[38;5;129;01mnot\u001b[39;00m \u001b[38;5;28mself\u001b[39m\u001b[38;5;241m.\u001b[39mg_updated:\n\u001b[0;32m--> 256\u001b[0m         \u001b[38;5;28;43mself\u001b[39;49m\u001b[38;5;241;43m.\u001b[39;49m\u001b[43m_update_grad_impl\u001b[49m\u001b[43m(\u001b[49m\u001b[43m)\u001b[49m\n\u001b[1;32m    257\u001b[0m         \u001b[38;5;28mself\u001b[39m\u001b[38;5;241m.\u001b[39mg_updated \u001b[38;5;241m=\u001b[39m \u001b[38;5;28;01mTrue\u001b[39;00m\n",
      "File \u001b[0;32m~/.local/share/virtualenvs/jhu-acm-grad-school-MxuOKGzq/lib/python3.10/site-packages/scipy/optimize/_differentiable_functions.py:173\u001b[0m, in \u001b[0;36mScalarFunction.__init__.<locals>.update_grad\u001b[0;34m()\u001b[0m\n\u001b[1;32m    171\u001b[0m \u001b[38;5;28mself\u001b[39m\u001b[38;5;241m.\u001b[39m_update_fun()\n\u001b[1;32m    172\u001b[0m \u001b[38;5;28mself\u001b[39m\u001b[38;5;241m.\u001b[39mngev \u001b[38;5;241m+\u001b[39m\u001b[38;5;241m=\u001b[39m \u001b[38;5;241m1\u001b[39m\n\u001b[0;32m--> 173\u001b[0m \u001b[38;5;28mself\u001b[39m\u001b[38;5;241m.\u001b[39mg \u001b[38;5;241m=\u001b[39m \u001b[43mapprox_derivative\u001b[49m\u001b[43m(\u001b[49m\u001b[43mfun_wrapped\u001b[49m\u001b[43m,\u001b[49m\u001b[43m \u001b[49m\u001b[38;5;28;43mself\u001b[39;49m\u001b[38;5;241;43m.\u001b[39;49m\u001b[43mx\u001b[49m\u001b[43m,\u001b[49m\u001b[43m \u001b[49m\u001b[43mf0\u001b[49m\u001b[38;5;241;43m=\u001b[39;49m\u001b[38;5;28;43mself\u001b[39;49m\u001b[38;5;241;43m.\u001b[39;49m\u001b[43mf\u001b[49m\u001b[43m,\u001b[49m\n\u001b[1;32m    174\u001b[0m \u001b[43m                           \u001b[49m\u001b[38;5;241;43m*\u001b[39;49m\u001b[38;5;241;43m*\u001b[39;49m\u001b[43mfinite_diff_options\u001b[49m\u001b[43m)\u001b[49m\n",
      "File \u001b[0;32m~/.local/share/virtualenvs/jhu-acm-grad-school-MxuOKGzq/lib/python3.10/site-packages/scipy/optimize/_numdiff.py:505\u001b[0m, in \u001b[0;36mapprox_derivative\u001b[0;34m(fun, x0, method, rel_step, abs_step, f0, bounds, sparsity, as_linear_operator, args, kwargs)\u001b[0m\n\u001b[1;32m    502\u001b[0m     use_one_sided \u001b[38;5;241m=\u001b[39m \u001b[38;5;28;01mFalse\u001b[39;00m\n\u001b[1;32m    504\u001b[0m \u001b[38;5;28;01mif\u001b[39;00m sparsity \u001b[38;5;129;01mis\u001b[39;00m \u001b[38;5;28;01mNone\u001b[39;00m:\n\u001b[0;32m--> 505\u001b[0m     \u001b[38;5;28;01mreturn\u001b[39;00m \u001b[43m_dense_difference\u001b[49m\u001b[43m(\u001b[49m\u001b[43mfun_wrapped\u001b[49m\u001b[43m,\u001b[49m\u001b[43m \u001b[49m\u001b[43mx0\u001b[49m\u001b[43m,\u001b[49m\u001b[43m \u001b[49m\u001b[43mf0\u001b[49m\u001b[43m,\u001b[49m\u001b[43m \u001b[49m\u001b[43mh\u001b[49m\u001b[43m,\u001b[49m\n\u001b[1;32m    506\u001b[0m \u001b[43m                             \u001b[49m\u001b[43muse_one_sided\u001b[49m\u001b[43m,\u001b[49m\u001b[43m \u001b[49m\u001b[43mmethod\u001b[49m\u001b[43m)\u001b[49m\n\u001b[1;32m    507\u001b[0m \u001b[38;5;28;01melse\u001b[39;00m:\n\u001b[1;32m    508\u001b[0m     \u001b[38;5;28;01mif\u001b[39;00m \u001b[38;5;129;01mnot\u001b[39;00m issparse(sparsity) \u001b[38;5;129;01mand\u001b[39;00m \u001b[38;5;28mlen\u001b[39m(sparsity) \u001b[38;5;241m==\u001b[39m \u001b[38;5;241m2\u001b[39m:\n",
      "File \u001b[0;32m~/.local/share/virtualenvs/jhu-acm-grad-school-MxuOKGzq/lib/python3.10/site-packages/scipy/optimize/_numdiff.py:570\u001b[0m, in \u001b[0;36m_dense_difference\u001b[0;34m(fun, x0, f0, h, use_one_sided, method)\u001b[0m\n\u001b[1;32m    568\u001b[0m n \u001b[38;5;241m=\u001b[39m x0\u001b[38;5;241m.\u001b[39msize\n\u001b[1;32m    569\u001b[0m J_transposed \u001b[38;5;241m=\u001b[39m np\u001b[38;5;241m.\u001b[39mempty((n, m))\n\u001b[0;32m--> 570\u001b[0m h_vecs \u001b[38;5;241m=\u001b[39m \u001b[43mnp\u001b[49m\u001b[38;5;241;43m.\u001b[39;49m\u001b[43mdiag\u001b[49m\u001b[43m(\u001b[49m\u001b[43mh\u001b[49m\u001b[43m)\u001b[49m\n\u001b[1;32m    572\u001b[0m \u001b[38;5;28;01mfor\u001b[39;00m i \u001b[38;5;129;01min\u001b[39;00m \u001b[38;5;28mrange\u001b[39m(h\u001b[38;5;241m.\u001b[39msize):\n\u001b[1;32m    573\u001b[0m     \u001b[38;5;28;01mif\u001b[39;00m method \u001b[38;5;241m==\u001b[39m \u001b[38;5;124m'\u001b[39m\u001b[38;5;124m2-point\u001b[39m\u001b[38;5;124m'\u001b[39m:\n",
      "File \u001b[0;32m<__array_function__ internals>:200\u001b[0m, in \u001b[0;36mdiag\u001b[0;34m(*args, **kwargs)\u001b[0m\n",
      "File \u001b[0;32m~/.local/share/virtualenvs/jhu-acm-grad-school-MxuOKGzq/lib/python3.10/site-packages/numpy/lib/twodim_base.py:299\u001b[0m, in \u001b[0;36mdiag\u001b[0;34m(v, k)\u001b[0m\n\u001b[1;32m    297\u001b[0m \u001b[38;5;28;01mif\u001b[39;00m \u001b[38;5;28mlen\u001b[39m(s) \u001b[38;5;241m==\u001b[39m \u001b[38;5;241m1\u001b[39m:\n\u001b[1;32m    298\u001b[0m     n \u001b[38;5;241m=\u001b[39m s[\u001b[38;5;241m0\u001b[39m]\u001b[38;5;241m+\u001b[39m\u001b[38;5;28mabs\u001b[39m(k)\n\u001b[0;32m--> 299\u001b[0m     res \u001b[38;5;241m=\u001b[39m \u001b[43mzeros\u001b[49m\u001b[43m(\u001b[49m\u001b[43m(\u001b[49m\u001b[43mn\u001b[49m\u001b[43m,\u001b[49m\u001b[43m \u001b[49m\u001b[43mn\u001b[49m\u001b[43m)\u001b[49m\u001b[43m,\u001b[49m\u001b[43m \u001b[49m\u001b[43mv\u001b[49m\u001b[38;5;241;43m.\u001b[39;49m\u001b[43mdtype\u001b[49m\u001b[43m)\u001b[49m\n\u001b[1;32m    300\u001b[0m     \u001b[38;5;28;01mif\u001b[39;00m k \u001b[38;5;241m>\u001b[39m\u001b[38;5;241m=\u001b[39m \u001b[38;5;241m0\u001b[39m:\n\u001b[1;32m    301\u001b[0m         i \u001b[38;5;241m=\u001b[39m k\n",
      "\u001b[0;31mMemoryError\u001b[0m: Unable to allocate 32.5 GiB for an array with shape (66049, 66049) and data type float64"
     ]
    }
   ],
   "source": [
    "results = []\n",
    "for idx,(train_range, test_range) in enumerate(get_train_test_time_ranges()):\n",
    "    train_start, train_end = train_range\n",
    "    test_start, test_range = train_range\n",
    "\n",
    "    train_mask = ts_df.index.map(lambda time_idx: time_idx >= train_start and time_idx <= train_end)\n",
    "    test_mask = ts_df.index.map(lambda time_idx: time_idx >= test_start and time_idx <= test_range)\n",
    "\n",
    "    train_state_ts = ts_df.loc[train_mask, 'Wind Spd Multi-State']\n",
    "    test_state_ts = ts_df.loc[test_mask, 'Wind Spd Multi-State']\n",
    "\n",
    "    n_ijh = calculate_n_ijh(train_state_ts)\n",
    "    p_ijh = calculate_p_ijh(\n",
    "        train_state_ts, n_ijh,\n",
    "        min_state=0, \n",
    "        max_state=max_multi_state_val-1,\n",
    "    )\n",
    "\n",
    "    result = sp.optimize.minimize(\n",
    "        fun=functools.partial(\n",
    "            objective_func,\n",
    "            p_ijh=p_ijh,\n",
    "            # weights=None,\n",
    "        ),\n",
    "        x0=np.ravel(p_ijh[0]) if len(results) == 0 else results[-1].x,\n",
    "    )\n",
    "    print(result)\n",
    "    results.append(result)\n",
    "\n",
    "    with open(f'markov-chain-with-direction-{idx}.json', 'w') as flink:\n",
    "        json.dump(list(result.x), flink)\n"
   ]
  },
  {
   "cell_type": "code",
   "execution_count": null,
   "id": "2782335a-bd74-490a-ae2a-c29127d1ffa9",
   "metadata": {},
   "outputs": [],
   "source": [
    "test_df['Wind Spd Multi-State']"
   ]
  },
  {
   "cell_type": "code",
   "execution_count": null,
   "id": "8bf4468e-36ba-4c5e-bd80-eef6ef4bb7bf",
   "metadata": {},
   "outputs": [],
   "source": [
    "for (train_range, test_range), result in zip(get_train_test_time_ranges(),results):\n",
    "    train_start, train_end = train_range\n",
    "    test_start, test_range = train_range\n",
    "\n",
    "    train_mask = ts_df.index.map(lambda time_idx: time_idx >= train_start and time_idx <= train_end)\n",
    "    test_mask = ts_df.index.map(lambda time_idx: time_idx >= test_start and time_idx <= test_range)\n",
    "\n",
    "    train_df = ts_df[train_mask]\n",
    "    test_df = ts_df[test_mask]\n",
    "\n",
    "    forcast_series = evaluate_markov_chain(\n",
    "        test_df['Wind Spd Multi-State'],\n",
    "        transition_matrix_vec=result.x,\n",
    "        vec_size=max_multi_state_val,\n",
    "        max_iter=100,\n",
    "    )\n",
    "\n",
    "    import ipdb;ipdb.set_trace()\n",
    "\n",
    "    # test_score = objective_func(result.x, train_df=test_df)\n",
    "    # train_rsm = np.sqrt(result.fun / len(train_df))\n",
    "    # test_rms = np.sqrt(test_score/len(test_df))\n",
    "\n",
    "    # display(result)\n",
    "    # print(f'{train_rsm=}')\n",
    "    # print(f'{test_score=}')\n",
    "    # print(f'{test_rms=}')\n",
    "    # print()\n"
   ]
  },
  {
   "cell_type": "code",
   "execution_count": null,
   "id": "d5253184-2da2-45dc-97fd-e243603fecda",
   "metadata": {},
   "outputs": [],
   "source": []
  }
 ],
 "metadata": {
  "kernelspec": {
   "display_name": "Python 3 (ipykernel)",
   "language": "python",
   "name": "python3"
  },
  "language_info": {
   "codemirror_mode": {
    "name": "ipython",
    "version": 3
   },
   "file_extension": ".py",
   "mimetype": "text/x-python",
   "name": "python",
   "nbconvert_exporter": "python",
   "pygments_lexer": "ipython3",
   "version": "3.10.5"
  }
 },
 "nbformat": 4,
 "nbformat_minor": 5
}
